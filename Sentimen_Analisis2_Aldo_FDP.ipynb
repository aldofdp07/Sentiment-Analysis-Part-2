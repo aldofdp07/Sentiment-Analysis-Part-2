{
  "nbformat": 4,
  "nbformat_minor": 0,
  "metadata": {
    "colab": {
      "provenance": [],
      "collapsed_sections": []
    },
    "kernelspec": {
      "name": "python3",
      "display_name": "Python 3"
    },
    "language_info": {
      "name": "python"
    }
  },
  "cells": [
    {
      "cell_type": "code",
      "execution_count": 58,
      "metadata": {
        "id": "7T40woBspS5y"
      },
      "outputs": [],
      "source": [
        "import csv\n",
        "import pandas as pd\n",
        "import random\n",
        "import pickle\n",
        "import numpy as np\n",
        "import tensorflow as tf\n",
        "import zipfile\n",
        "import warnings\n",
        "warnings.simplefilter(\"ignore\")\n",
        "\n",
        "\n",
        "from tensorflow.keras.models import Sequential\n",
        "from keras.layers import Dense, Embedding, LSTM, SpatialDropout1D\n",
        "from tensorflow.keras.utils import to_categorical \n",
        "from tensorflow.keras.preprocessing.text import Tokenizer\n",
        "from tensorflow.keras.preprocessing.sequence import pad_sequences\n",
        "from sklearn.model_selection import train_test_split\n",
        "import matplotlib.pyplot as plt\n",
        "from scipy.stats import linregress"
      ]
    },
    {
      "cell_type": "code",
      "source": [
        "EMBEDDING_DIM = 100\n",
        "MAXLEN = 16\n",
        "TRUNCATING = 'post'\n",
        "PADDING = 'post'\n",
        "OOV_TOKEN = \"<OOV>\"\n",
        "MAX_EXAMPLES = 5000\n",
        "TRAINING_SPLIT = 0.9"
      ],
      "metadata": {
        "id": "M6m0PsphimgN"
      },
      "execution_count": 59,
      "outputs": []
    },
    {
      "cell_type": "code",
      "source": [
        "!wget https://github.com/aldofdp07/Sentiment-Analysis-Part-2/blob/main/tugas-analisis-sentimen-text-mining-kelas-b.zip"
      ],
      "metadata": {
        "colab": {
          "base_uri": "https://localhost:8080/"
        },
        "id": "QlnoanxkqH5W",
        "outputId": "b5004e8f-54a7-4a74-a3fe-1f28924d1d54"
      },
      "execution_count": 60,
      "outputs": [
        {
          "output_type": "stream",
          "name": "stdout",
          "text": [
            "--2022-11-12 14:48:59--  https://github.com/aldofdp07/Sentiment-Analysis-Part-2/blob/main/tugas-analisis-sentimen-text-mining-kelas-b.zip\n",
            "Resolving github.com (github.com)... 192.30.255.112\n",
            "Connecting to github.com (github.com)|192.30.255.112|:443... connected.\n",
            "HTTP request sent, awaiting response... 404 Not Found\n",
            "2022-11-12 14:48:59 ERROR 404: Not Found.\n",
            "\n"
          ]
        }
      ]
    },
    {
      "cell_type": "code",
      "source": [
        "!unzip /content/tugas-analisis-sentimen-text-mining-kelas-b.zip"
      ],
      "metadata": {
        "colab": {
          "base_uri": "https://localhost:8080/"
        },
        "id": "B-zytJ1m0aWz",
        "outputId": "f6f5c608-129a-4d2f-aa86-d7517f27f34e"
      },
      "execution_count": 61,
      "outputs": [
        {
          "output_type": "stream",
          "name": "stdout",
          "text": [
            "unzip:  cannot find or open /content/tugas-analisis-sentimen-text-mining-kelas-b.zip, /content/tugas-analisis-sentimen-text-mining-kelas-b.zip.zip or /content/tugas-analisis-sentimen-text-mining-kelas-b.zip.ZIP.\n"
          ]
        }
      ]
    },
    {
      "cell_type": "code",
      "source": [
        "train = pd.read_csv('/content/train.csv')\n",
        "test = pd.read_csv('/content/test.csv')\n",
        "train.dropna(axis=1)\n",
        "test.dropna(axis=1)\n",
        "train.head()"
      ],
      "metadata": {
        "colab": {
          "base_uri": "https://localhost:8080/",
          "height": 389
        },
        "id": "SZyAabPtugdY",
        "outputId": "ec4ebd32-9fc0-405f-f417-47f767a74efe"
      },
      "execution_count": 112,
      "outputs": [
        {
          "output_type": "execute_result",
          "data": {
            "text/plain": [
              "   Id Sentiment pasangan_calon  \\\n",
              "0   1  negative     Agus-Sylvi   \n",
              "1   2  negative     Agus-Sylvi   \n",
              "2   3  negative     Agus-Sylvi   \n",
              "3   4  negative     Agus-Sylvi   \n",
              "4   5  negative     Agus-Sylvi   \n",
              "\n",
              "                                          text_tweet Unnamed: 4 Unnamed: 5  \\\n",
              "0  'Banyak akun kloning seolah2 pendukung #agussi...        NaN        NaN   \n",
              "1  '#agussilvy bicara apa kasihan yaa...lap itu a...        NaN        NaN   \n",
              "2  'Kalau aku sih gak nunggu hasil akhir QC tp la...        NaN        NaN   \n",
              "3  'Kasian oh kasian dengan peluru 1milyar untuk ...        NaN        NaN   \n",
              "4  'Maaf ya pendukung #AgusSilvy..hayo dukung #An...        NaN        NaN   \n",
              "\n",
              "  Unnamed: 6 Unnamed: 7 Unnamed: 8 Unnamed: 9  \n",
              "0        NaN        NaN        NaN        NaN  \n",
              "1        NaN        NaN        NaN        NaN  \n",
              "2        NaN        NaN        NaN        NaN  \n",
              "3        NaN        NaN        NaN        NaN  \n",
              "4        NaN        NaN        NaN        NaN  "
            ],
            "text/html": [
              "\n",
              "  <div id=\"df-2b890d7b-80d6-4125-b410-9773c61e51be\">\n",
              "    <div class=\"colab-df-container\">\n",
              "      <div>\n",
              "<style scoped>\n",
              "    .dataframe tbody tr th:only-of-type {\n",
              "        vertical-align: middle;\n",
              "    }\n",
              "\n",
              "    .dataframe tbody tr th {\n",
              "        vertical-align: top;\n",
              "    }\n",
              "\n",
              "    .dataframe thead th {\n",
              "        text-align: right;\n",
              "    }\n",
              "</style>\n",
              "<table border=\"1\" class=\"dataframe\">\n",
              "  <thead>\n",
              "    <tr style=\"text-align: right;\">\n",
              "      <th></th>\n",
              "      <th>Id</th>\n",
              "      <th>Sentiment</th>\n",
              "      <th>pasangan_calon</th>\n",
              "      <th>text_tweet</th>\n",
              "      <th>Unnamed: 4</th>\n",
              "      <th>Unnamed: 5</th>\n",
              "      <th>Unnamed: 6</th>\n",
              "      <th>Unnamed: 7</th>\n",
              "      <th>Unnamed: 8</th>\n",
              "      <th>Unnamed: 9</th>\n",
              "    </tr>\n",
              "  </thead>\n",
              "  <tbody>\n",
              "    <tr>\n",
              "      <th>0</th>\n",
              "      <td>1</td>\n",
              "      <td>negative</td>\n",
              "      <td>Agus-Sylvi</td>\n",
              "      <td>'Banyak akun kloning seolah2 pendukung #agussi...</td>\n",
              "      <td>NaN</td>\n",
              "      <td>NaN</td>\n",
              "      <td>NaN</td>\n",
              "      <td>NaN</td>\n",
              "      <td>NaN</td>\n",
              "      <td>NaN</td>\n",
              "    </tr>\n",
              "    <tr>\n",
              "      <th>1</th>\n",
              "      <td>2</td>\n",
              "      <td>negative</td>\n",
              "      <td>Agus-Sylvi</td>\n",
              "      <td>'#agussilvy bicara apa kasihan yaa...lap itu a...</td>\n",
              "      <td>NaN</td>\n",
              "      <td>NaN</td>\n",
              "      <td>NaN</td>\n",
              "      <td>NaN</td>\n",
              "      <td>NaN</td>\n",
              "      <td>NaN</td>\n",
              "    </tr>\n",
              "    <tr>\n",
              "      <th>2</th>\n",
              "      <td>3</td>\n",
              "      <td>negative</td>\n",
              "      <td>Agus-Sylvi</td>\n",
              "      <td>'Kalau aku sih gak nunggu hasil akhir QC tp la...</td>\n",
              "      <td>NaN</td>\n",
              "      <td>NaN</td>\n",
              "      <td>NaN</td>\n",
              "      <td>NaN</td>\n",
              "      <td>NaN</td>\n",
              "      <td>NaN</td>\n",
              "    </tr>\n",
              "    <tr>\n",
              "      <th>3</th>\n",
              "      <td>4</td>\n",
              "      <td>negative</td>\n",
              "      <td>Agus-Sylvi</td>\n",
              "      <td>'Kasian oh kasian dengan peluru 1milyar untuk ...</td>\n",
              "      <td>NaN</td>\n",
              "      <td>NaN</td>\n",
              "      <td>NaN</td>\n",
              "      <td>NaN</td>\n",
              "      <td>NaN</td>\n",
              "      <td>NaN</td>\n",
              "    </tr>\n",
              "    <tr>\n",
              "      <th>4</th>\n",
              "      <td>5</td>\n",
              "      <td>negative</td>\n",
              "      <td>Agus-Sylvi</td>\n",
              "      <td>'Maaf ya pendukung #AgusSilvy..hayo dukung #An...</td>\n",
              "      <td>NaN</td>\n",
              "      <td>NaN</td>\n",
              "      <td>NaN</td>\n",
              "      <td>NaN</td>\n",
              "      <td>NaN</td>\n",
              "      <td>NaN</td>\n",
              "    </tr>\n",
              "  </tbody>\n",
              "</table>\n",
              "</div>\n",
              "      <button class=\"colab-df-convert\" onclick=\"convertToInteractive('df-2b890d7b-80d6-4125-b410-9773c61e51be')\"\n",
              "              title=\"Convert this dataframe to an interactive table.\"\n",
              "              style=\"display:none;\">\n",
              "        \n",
              "  <svg xmlns=\"http://www.w3.org/2000/svg\" height=\"24px\"viewBox=\"0 0 24 24\"\n",
              "       width=\"24px\">\n",
              "    <path d=\"M0 0h24v24H0V0z\" fill=\"none\"/>\n",
              "    <path d=\"M18.56 5.44l.94 2.06.94-2.06 2.06-.94-2.06-.94-.94-2.06-.94 2.06-2.06.94zm-11 1L8.5 8.5l.94-2.06 2.06-.94-2.06-.94L8.5 2.5l-.94 2.06-2.06.94zm10 10l.94 2.06.94-2.06 2.06-.94-2.06-.94-.94-2.06-.94 2.06-2.06.94z\"/><path d=\"M17.41 7.96l-1.37-1.37c-.4-.4-.92-.59-1.43-.59-.52 0-1.04.2-1.43.59L10.3 9.45l-7.72 7.72c-.78.78-.78 2.05 0 2.83L4 21.41c.39.39.9.59 1.41.59.51 0 1.02-.2 1.41-.59l7.78-7.78 2.81-2.81c.8-.78.8-2.07 0-2.86zM5.41 20L4 18.59l7.72-7.72 1.47 1.35L5.41 20z\"/>\n",
              "  </svg>\n",
              "      </button>\n",
              "      \n",
              "  <style>\n",
              "    .colab-df-container {\n",
              "      display:flex;\n",
              "      flex-wrap:wrap;\n",
              "      gap: 12px;\n",
              "    }\n",
              "\n",
              "    .colab-df-convert {\n",
              "      background-color: #E8F0FE;\n",
              "      border: none;\n",
              "      border-radius: 50%;\n",
              "      cursor: pointer;\n",
              "      display: none;\n",
              "      fill: #1967D2;\n",
              "      height: 32px;\n",
              "      padding: 0 0 0 0;\n",
              "      width: 32px;\n",
              "    }\n",
              "\n",
              "    .colab-df-convert:hover {\n",
              "      background-color: #E2EBFA;\n",
              "      box-shadow: 0px 1px 2px rgba(60, 64, 67, 0.3), 0px 1px 3px 1px rgba(60, 64, 67, 0.15);\n",
              "      fill: #174EA6;\n",
              "    }\n",
              "\n",
              "    [theme=dark] .colab-df-convert {\n",
              "      background-color: #3B4455;\n",
              "      fill: #D2E3FC;\n",
              "    }\n",
              "\n",
              "    [theme=dark] .colab-df-convert:hover {\n",
              "      background-color: #434B5C;\n",
              "      box-shadow: 0px 1px 3px 1px rgba(0, 0, 0, 0.15);\n",
              "      filter: drop-shadow(0px 1px 2px rgba(0, 0, 0, 0.3));\n",
              "      fill: #FFFFFF;\n",
              "    }\n",
              "  </style>\n",
              "\n",
              "      <script>\n",
              "        const buttonEl =\n",
              "          document.querySelector('#df-2b890d7b-80d6-4125-b410-9773c61e51be button.colab-df-convert');\n",
              "        buttonEl.style.display =\n",
              "          google.colab.kernel.accessAllowed ? 'block' : 'none';\n",
              "\n",
              "        async function convertToInteractive(key) {\n",
              "          const element = document.querySelector('#df-2b890d7b-80d6-4125-b410-9773c61e51be');\n",
              "          const dataTable =\n",
              "            await google.colab.kernel.invokeFunction('convertToInteractive',\n",
              "                                                     [key], {});\n",
              "          if (!dataTable) return;\n",
              "\n",
              "          const docLinkHtml = 'Like what you see? Visit the ' +\n",
              "            '<a target=\"_blank\" href=https://colab.research.google.com/notebooks/data_table.ipynb>data table notebook</a>'\n",
              "            + ' to learn more about interactive tables.';\n",
              "          element.innerHTML = '';\n",
              "          dataTable['output_type'] = 'display_data';\n",
              "          await google.colab.output.renderOutput(dataTable, element);\n",
              "          const docLink = document.createElement('div');\n",
              "          docLink.innerHTML = docLinkHtml;\n",
              "          element.appendChild(docLink);\n",
              "        }\n",
              "      </script>\n",
              "    </div>\n",
              "  </div>\n",
              "  "
            ]
          },
          "metadata": {},
          "execution_count": 112
        }
      ]
    },
    {
      "cell_type": "code",
      "source": [
        "print(train[\"text_tweet\"])"
      ],
      "metadata": {
        "colab": {
          "base_uri": "https://localhost:8080/"
        },
        "id": "Y8M7g6AXS-nV",
        "outputId": "006185e3-7511-40ca-e36a-3ceef4e628b1"
      },
      "execution_count": 86,
      "outputs": [
        {
          "output_type": "stream",
          "name": "stdout",
          "text": [
            "0      'Banyak akun kloning seolah2 pendukung #agussi...\n",
            "1      '#agussilvy bicara apa kasihan yaa...lap itu a...\n",
            "2      'Kalau aku sih gak nunggu hasil akhir QC tp la...\n",
            "3      'Kasian oh kasian dengan peluru 1milyar untuk ...\n",
            "4      'Maaf ya pendukung #AgusSilvy..hayo dukung #An...\n",
            "                             ...                        \n",
            "625    'Setelah KO di beberapa Polling kini mereka go...\n",
            "626    'program asal ngomong begini jadinya pemotonga...\n",
            "627    'Waaaah ternyata dia sudah sadar kalo selama i...\n",
            "628    'Belajar mulai dari yang sederhana: Kursi dipa...\n",
            "629    'Lho Lagu Anies-Sandi Menjiplak Nyanyian Yahud...\n",
            "Name: text_tweet, Length: 630, dtype: object\n"
          ]
        }
      ]
    },
    {
      "cell_type": "code",
      "source": [
        "def train_val_split(sentences, labels, training_split):\n",
        "    \n",
        "    train_data, validation_data, train_labels, validation_labels = train_test_split(sentences, labels, train_size=training_split, random_state=24)\n",
        "    return train_data, validation_data, train_labels, validation_labels\n",
        "    \n",
        "    return train_data, validation_data, train_labels, validation_labels"
      ],
      "metadata": {
        "id": "yfMiSXXSzRfk"
      },
      "execution_count": 87,
      "outputs": []
    },
    {
      "cell_type": "code",
      "source": [
        "# Test your function\n",
        "sentences = train[\"text_tweet\"]\n",
        "labels = train[\"Sentiment\"]\n",
        "train_sentences, val_sentences, train_labels, val_labels = train_val_split(sentences, labels, TRAINING_SPLIT)\n",
        "\n",
        "print(f\"There are {len(train_sentences)} sentences for training.\\n\")\n",
        "print(f\"There are {len(train_labels)} labels for training.\\n\")\n",
        "print(f\"There are {len(val_sentences)} sentences for validation.\\n\")\n",
        "print(f\"There are {len(val_labels)} labels for validation.\")"
      ],
      "metadata": {
        "colab": {
          "base_uri": "https://localhost:8080/"
        },
        "id": "F6GGdOU21tzr",
        "outputId": "d9957542-6005-4d36-d12b-bbfea3450de7"
      },
      "execution_count": 88,
      "outputs": [
        {
          "output_type": "stream",
          "name": "stdout",
          "text": [
            "There are 567 sentences for training.\n",
            "\n",
            "There are 567 labels for training.\n",
            "\n",
            "There are 63 sentences for validation.\n",
            "\n",
            "There are 63 labels for validation.\n"
          ]
        }
      ]
    },
    {
      "cell_type": "code",
      "source": [
        "def fit_tokenizer(train_sentences, oov_token):\n",
        "    \n",
        "    ### START CODE HERE\n",
        "        # Instantiate the Tokenizer class, passing in the correct values for num_words and oov_token\n",
        "    tokenizer = Tokenizer(oov_token = oov_token, filters='!\"#$%&()*+,-./:;<=>?@[\\]^_`{|}~', lower=True)\n",
        "        # Fit the tokenizer to the training sentences\n",
        "    tokenizer.fit_on_texts(train_sentences)\n",
        "    ### END CODE HERE  \n",
        "    return tokenizer"
      ],
      "metadata": {
        "id": "2BMVbinI1uZf"
      },
      "execution_count": 89,
      "outputs": []
    },
    {
      "cell_type": "code",
      "source": [
        "# Test your function\n",
        "tokenizer = fit_tokenizer(train_sentences, OOV_TOKEN)\n",
        "\n",
        "word_index = tokenizer.word_index\n",
        "vocab_size = len(word_index)\n",
        "\n",
        "print(f\"Vocabulary contains {vocab_size} words\\n\")\n",
        "print(\"<OOV> token included in vocabulary\" if \"<OOV>\" in word_index else \"<OOV> token NOT included in vocabulary\")"
      ],
      "metadata": {
        "colab": {
          "base_uri": "https://localhost:8080/"
        },
        "id": "rv-QHF4T13ju",
        "outputId": "5d1643b3-e3be-4628-ab95-0612b00ca8ee"
      },
      "execution_count": 90,
      "outputs": [
        {
          "output_type": "stream",
          "name": "stdout",
          "text": [
            "Vocabulary contains 3092 words\n",
            "\n",
            "<OOV> token included in vocabulary\n"
          ]
        }
      ]
    },
    {
      "cell_type": "code",
      "source": [
        "print(word_index)"
      ],
      "metadata": {
        "colab": {
          "base_uri": "https://localhost:8080/"
        },
        "id": "_hwBULgA2C1K",
        "outputId": "1d6a02ce-3fcc-4cdf-ab95-814e94db4f2e"
      },
      "execution_count": 91,
      "outputs": [
        {
          "output_type": "stream",
          "name": "stdout",
          "text": [
            "{'<OOV>': 1, \"'\": 2, 'ahy': 3, 'yang': 4, 'ahok': 5, 'ahokdjarot': 6, 'face': 7, 'dan': 8, 'di': 9, 'with': 10, 'tidak': 11, 'untuk': 12, 'pilkada': 13, \"ahokdjarot'\": 14, 'ini': 15, 'jakarta': 16, 'djarot': 17, 'https': 18, 'pilkadadki2017': 19, 'pak': 20, 'dki': 21, \"pilkadadki2017'\": 22, 'hand': 23, 'smiling': 24, 'victory': 25, 'kalah': 26, 'com': 27, 'jadi': 28, 'anies': 29, 'itu': 30, 'dari': 31, 'dengan': 32, \"ahy'\": 33, 'indonesia': 34, 'pilkadadki': 35, 'www': 36, 'sudah': 37, 'http': 38, 'pada': 39, 'menang': 40, 'ada': 41, 'basuki': 42, 'bunga': 43, 'eyes': 44, 'dalam': 45, 'ya': 46, 'masih': 47, 'bisa': 48, 'pilih': 49, 'instagram': 50, 'btp': 51, 'pendukung': 52, 'ke': 53, 'p': 54, 'saya': 55, 'karena': 56, 'pemimpin': 57, 'tapi': 58, 'mau': 59, 'bukan': 60, 'mereka': 61, 'orang': 62, 'gubernur': 63, 'lebih': 64, 'jangan': 65, 'sby': 66, 'baru': 67, 'lagi': 68, 'apa': 69, 'hands': 70, 'warga': 71, 'stuck': 72, 'out': 73, 'sandi': 74, 'badja': 75, 'sama': 76, 'no': 77, 'tetap': 78, 'aja': 79, 'of': 80, 'suara': 81, 'goo': 82, 'gl': 83, 'kok': 84, 'akan': 85, 'baik': 86, 'sekarang': 87, 'agusyudhoyono': 88, 'saja': 89, \"pilkadadki'\": 90, 'kerja': 91, 'sampai': 92, 'dukung': 93, 'rakyat': 94, \"'ahy\": 95, 'yg': 96, 'kami': 97, 'semua': 98, 'paslon': 99, 'aniessandi': 100, 'agus': 101, 'banyak': 102, 'tears': 103, 'joy': 104, '2': 105, 'mouth': 106, 'terus': 107, 'kalau': 108, 'hati': 109, 'putaran': 110, '1': 111, 'seperti': 112, 'masa': 113, 'kan': 114, 'buat': 115, \"'saya\": 116, 'politik': 117, 'kasih': 118, 'mas': 119, 'folded': 120, 'dulu': 121, 'adalah': 122, 'pernah': 123, 'negatif': 124, 'cuma': 125, 'tak': 126, 'kita': 127, 'a': 128, 'aku': 129, 'karangan': 130, 'tounges': 131, 'sylvi': 132, 'tongue': 133, 'fire': 134, 'juga': 135, 'nyata': 136, 'pemilih': 137, '2017': 138, 'bagi': 139, 'hasil': 140, 'silvy': 141, 'bapak': 142, 'thumbs': 143, 'tuhan': 144, 'saveahok': 145, 'closed': 146, 'aniesbaswedan': 147, 'nih': 148, '3': 149, 'dia': 150, 'selalu': 151, 'tps': 152, 'sangat': 153, 'agussilvy': 154, 'demokrat': 155, 'terima': 156, 'hari': 157, 'program': 158, 'saat': 159, 'kemenangan': 160, 'bangga': 161, 'atas': 162, 'tanpa': 163, 'debat': 164, 'nanti': 165, 'semangat': 166, 'lah': 167, 'menjadi': 168, 'cinta': 169, \"agussilvy'\": 170, 'nya': 171, \"ahok'\": 172, 'sunglasses': 173, 'besar': 174, 'sbyudhoyono': 175, 'ternyata': 176, 'hanya': 177, 'anda': 178, 'siap': 179, 'blowing': 180, 'kiss': 181, 'pilgub': 182, 'umat': 183, 'kota': 184, \"'tidak\": 185, 'the': 186, 'muda': 187, 'bikin': 188, 'gak': 189, 'on': 190, 'ngomong': 191, 'sembako': 192, 'dapat': 193, 'udah': 194, 'cara': 195, 'antasari': 196, 'semoga': 197, 'anak': 198, 'jiwa': 199, \"'yang\": 200, 'satu': 201, 'agama': 202, 'melihat': 203, 'pasti': 204, 'korupsi': 205, 'bangsa': 206, 'open': 207, 'kampanye': 208, \"'jangan\": 209, 'lupa': 210, 'kepada': 211, 'thinking': 212, 'bakal': 213, 'maju': 214, 'fb': 215, 'zipper': 216, 'kaum': 217, 'telah': 218, 'karanganbungaahok': 219, 'kemarin': 220, 'sendiri': 221, 'suka': 222, 'malah': 223, 'lihat': 224, 'bersama': 225, 'orang2': 226, 'ly': 227, \"'ahok\": 228, 'salah': 229, 'memilih': 230, 'mungkin': 231, 'setelah': 232, 'demi': 233, \"'kalau\": 234, 'news': 235, 'teman': 236, 'kata': 237, 'atau': 238, 'butuh': 239, 'balai': 240, 'jujur': 241, 'gara': 242, 'nose': 243, 'siapa': 244, 'kayak': 245, 'depan': 246, 'beliau': 247, 'mantan': 248, 'sedih': 249, 'deh': 250, 'berita': 251, 'kalo': 252, 'dlvr': 253, 'it': 254, 'tahu': 255, 'mulai': 256, 'polling': 257, \"com'\": 258, 'nkri': 259, 'harapan': 260, 'nu': 261, 'membuat': 262, 'ikut': 263, 'benar': 264, 'heart': 265, 'paling': 266, 'harus': 267, \"'pak\": 268, 'semakin': 269, 'ok': 270, 'selama': 271, 'positif': 272, 'sulit': 273, 'down': 274, 'oleh': 275, \"'ya\": 276, 'fpi': 277, 'grimacing': 278, '2019': 279, 'dp': 280, '0': 281, 'kau': 282, 'calon': 283, 'masuk': 284, 'twitter': 285, 'hoax': 286, 'kalian': 287, 'diri': 288, 'selamat': 289, 'coblos': 290, 'soal': 291, 'allah': 292, 'kafir': 293, 'freeahok': 294, 'datang': 295, 'biasa': 296, 'jelas': 297, 'minta': 298, 'sara': 299, 'merasa': 300, 'frowning': 301, 'sekali': 302, 'mencari': 303, 'islam': 304, 'up': 305, 'belajar': 306, 'kekalahan': 307, 'pernyataan': 308, 'begitu': 309, 'ahokdicintairakyat': 310, 'pilkadajakarta': 311, 'pemenang': 312, 'jokowi': 313, 'tolakjakartabersyariah': 314, 'sosok': 315, 'terhadap': 316, \"'banyak\": 317, 'isu': 318, 'akun': 319, 'utk': 320, 'nama': 321, 'daripada': 322, 'heavy': 323, 'check': 324, 'mark': 325, 'presiden': 326, 'bilang': 327, \"'aku\": 328, 'basukibtp': 329, 'lama': 330, 'yaa': 331, 'dkijakarta': 332, 'sejak': 333, 'strategi': 334, 'manusia': 335, 'belum': 336, 'makin': 337, 'rolling': 338, 'floor': 339, 'laughing': 340, 'grining': 341, 'smile': 342, 'eye': 343, 'apalagi': 344, 'hincapandjaitan': 345, 'bagian': 346, 'memberikan': 347, 'm': 348, 'boleh': 349, 'be': 350, \"'kami\": 351, 'pun': 352, 'bulan': 353, \"'salam\": 354, 'rumah': 355, 'banget': 356, 'fitnah': 357, 'justru': 358, 'clapping': 359, 'fadlizon': 360, 'kehilangan': 361, 'keras': 362, 'komando': 363, 'monas': 364, 'riphukum': 365, 'lilin': 366, 'tinggi': 367, \"'masih\": 368, \"'karangan\": 369, 'cukup': 370, 'bit': 371, \"'kita\": 372, 'punya': 373, 'agar': 374, 'fokus': 375, 'luar': 376, 'temanahok': 377, \"indonesia'\": 378, 'tentang': 379, 'doa': 380, \"'semoga\": 381, 'tempat': 382, 'kamu': 383, 'foto': 384, \"pilkada'\": 385, \"'terima\": 386, 'yakin': 387, 'voteahok': 388, 'nyoblos': 389, \"agusyudhoyono'\": 390, 'lain': 391, 'video': 392, 'naik': 393, 'segala': 394, 'gerakan': 395, \"'suara\": 396, 'nyanyian': 397, 'steam': 398, 'from': 399, 'emang': 400, \"lagi'\": 401, \"'mungkin\": 402, 'rasanya': 403, 'move': 404, 'jualan': 405, 'mayor': 406, 'ahoker': 407, \"'pilkada\": 408, 'tukang': 409, 'rw': 410, 'purnama': 411, 'elektabilitas': 412, 'liat': 413, 'netral': 414, 'memimpin': 415, 'gombalinahok': 416, 'pribadi': 417, 'keputusan': 418, 'quickcount': 419, 'sebelumnya': 420, 'massa': 421, 'masjid': 422, 'online': 423, \"'di\": 424, 'pertama': 425, 'curang': 426, 'debatfinalpilkadajkt': 427, 'sindir': 428, 'kpu': 429, 'dipecat': 430, 'mending': 431, 'pilpres': 432, 'ahokers': 433, 'terbukti': 434, 'pdemokrat': 435, 'serta': 436, 'macet': 437, 'ama': 438, 'band': 439, 'asal': 440, 'dukungan': 441, 'youtu': 442, \"'bukan\": 443, 'sungguh': 444, \"ini'\": 445, 'pas': 446, 'via': 447, 'sibuk': 448, 'tenang': 449, 'membawa': 450, 'apakah': 451, 'muslim': 452, 'tetapi': 453, \"'walaupun\": 454, 'ni': 455, 'janji': 456, \"savejakarta'\": 457, \"'dari\": 458, 'â€': 459, 'mayoritas': 460, 'dua': 461, 'cuitan': 462, 'kehidupan': 463, 'ga': 464, \"aniessandi'\": 465, 'mirip': 466, 'pers': 467, \"'selamat\": 468, 'memang': 469, 'musuh': 470, 'demokrasi': 471, 'tolak': 472, 'keliling': 473, 'ibu': 474, 'survey': 475, \"'wah\": 476, \"jakarta'\": 477, 'gubenur': 478, 'dada': 479, 'gerindra': 480, 'barisan': 481, 'sebatas': 482, \"'bagi\": 483, 'tagih': 484, 'tau': 485, 'ambil': 486, \"'tuhan\": 487, 'keadilan': 488, 'benci': 489, 'mundur': 490, 'skenario': 491, 'ripjusticeinindonesia': 492, \"ahokishope'\": 493, 'sayang': 494, 'raising': 495, 'tunggu': 496, 'unggul': 497, 'bekerja': 498, 'memo': 499, 'oncoming': 500, 'fist': 501, 'sebut': 502, 'darah': 503, 'matang': 504, 'jika': 505, 'maka': 506, 'mudah': 507, 'pendukungnya': 508, 'jatuh': 509, 'ingin': 510, 'hukum': 511, 'terakhir': 512, 'lagu': 513, 'berdoa': 514, 'bersih': 515, 'tim': 516, 'langkah': 517, 'seruji': 518, 'tetep': 519, 'keren': 520, 'suaranya': 521, 'kedua': 522, 'gembira': 523, 'contoh': 524, 'balaikota': 525, '7': 526, 'jatim': 527, 'putri': 528, 'memenangkan': 529, 'dilakukan': 530, \"'jika\": 531, 'waktu': 532, 'ucapan': 533, 'manado': 534, \"menang'\": 535, 'ksatria': 536, 'mana': 537, 'bpk': 538, 'mu': 539, 'kenapa': 540, \"'apa\": 541, 'fakta': 542, 'metro': 543, 'tv': 544, 'baju': 545, 'sandiuno': 546, 'nunggu': 547, 'pakai': 548, 'sisi': 549, 'obsessionnews': 550, 'mui': 551, 'perlu': 552, 'puisi': 553, 'anti': 554, 'efek': 555, 'lewat': 556, 'diberi': 557, 'haram': 558, 'pemilu': 559, 'gagal': 560, 'cagub': 561, 'para': 562, \"'mas\": 563, 'umum': 564, 'gitu': 565, 'ahokishope': 566, 'ripjusticeindonesia': 567, 'terbaik': 568, 'addiems': 569, 'malam': 570, 'kagum': 571, 'berani': 572, 'nasional': 573, 'kali': 574, 'memakai': 575, 'haji': 576, 'relawan': 577, \"'kemenangan\": 578, 'tertunda': 579, 'bijaksana': 580, 'yaaaa': 581, 'sebaik': 582, 'tegas': 583, 'menuju': 584, 'rusak': 585, 'si': 586, 'aa': 587, 'moga': 588, 'merayakan': 589, 'tertib': 590, 'gub': 591, '5': 592, 'susah': 593, 'termasuk': 594, 'pilihan': 595, 'rejeki': 596, 'kasihan': 597, 'debatfinalpilkadadki': 598, 'gue2': 599, 'sejati': 600, \"'ini\": 601, \"'kekalahan\": 602, 'hidayat': 603, \"'benar\": 604, 'berdemokrasi': 605, 'jumatberkah': 606, 'masyarakat': 607, 'sadar': 608, 'pake': 609, 'perspektif': 610, 'coba': 611, 'kepemimpinan': 612, 'mbak': 613, 'bergabung': 614, 'timses': 615, 'tiap': 616, \"'salah\": 617, 'faktor': 618, 'kurang': 619, 'balik': 620, \"'setelah\": 621, 'menyerang': 622, \"'doa\": 623, \"'demokrat\": 624, 'cerdas': 625, \"'ada\": 626, 'knp': 627, 'acara': 628, 'negara': 629, 'lovered': 630, 'indah': 631, 'kh': 632, \"'kalah\": 633, 'makanya': 634, \"'bapak\": 635, 'aman': 636, 'menangkan': 637, 'ahokdjarotâ€': 638, \"'saat\": 639, 'menunjukkan': 640, \"'harus\": 641, \"'ahoker\": 642, 'bully': 643, 'adil': 644, \"'dulu\": 645, 'terpecah': 646, 'akucoblosaniessandi': 647, \"pilkadadk'\": 648, 'cocok': 649, 'pegawai': 650, 'ri': 651, 'yudhoyono': 652, 'namanya': 653, 'prihatin': 654, 'pecundang': 655, 'evil': 656, 'mental': 657, 'sepertinya': 658, 'respon': 659, 'eh': 660, 'kena': 661, 'protes': 662, 'biar': 663, 'menteri': 664, 'isari68': 665, 'terimakasih': 666, 'mendukungmu': 667, 'kinerja': 668, \"'heboh\": 669, 'beberapa': 670, 'sebelum': 671, 'biarkan': 672, 'ngiri': 673, 'takut': 674, \"'kalo\": 675, 'heboh': 676, 'coldplay': 677, 'pasangan': 678, \"'ayo\": 679, 'ow': 680, \"'pendukung\": 681, 'melupakan': 682, 'bully2': 683, 'penista': 684, 'sdh': 685, 'pastilah': 686, 'otomatis': 687, 'dukungannya': 688, 'lari': 689, 'anisa': 690, \"'sedih\": 691, \"'bagaimana\": 692, 'alloh': 693, 'didukung': 694, 'diyakini': 695, 'pengaruhi': 696, 'beritasatu': 697, 'kubu': 698, 'pemilihan': 699, 'tuh': 700, 'bagi2': 701, 'modal': 702, \"'tolak\": 703, 'berpolitik': 704, \"'meski\": 705, 'ahokmenang': 706, 'prabowo': 707, 'stres': 708, 'menanglah': 709, 'hormat': 710, 'rp': 711, 'akhirat': 712, 'diharapkan': 713, 'kawal': 714, \"'ahokers\": 715, 'mendadak': 716, 'sesuatu': 717, 'dihati': 718, 'status': 719, 'menjalankan': 720, 'jd': 721, 'team': 722, 'sukses': 723, \"'gara2\": 724, 'melawan': 725, 'pikir': 726, 'abang': 727, 'wagubdki': 728, 'seragam': 729, 'hitam2': 730, 'netizentofa': 731, 'ha': 732, 'berharap': 733, 'yah': 734, 'sementara': 735, 'pilkadaserentak2017': 736, 'merahputih': 737, 'pilgubdki': 738, 'pekerja': 739, 'partaidemokrat': 740, \"dkijakarta'\": 741, 'menerima': 742, 'lapang': 743, 'ahyfansclub': 744, \"'terimakasih\": 745, \"baru'\": 746, 'spanduk': 747, \"lanjutkan'\": 748, '1000lilin': 749, 'high': 750, 'voltage': 751, 'tidur': 752, 'supaya': 753, 'teriak': 754, \"'untuk\": 755, 'sebagai': 756, 'tepat': 757, \"'remuk\": 758, 'hatiku': 759, 'terjadi': 760, 'lawinforcement': 761, 'justice': 762, 'jakartauntuksemua': 763, 'tangan': 764, 'sabar': 765, 'matanya': 766, 'tinggal': 767, 'sikap': 768, 'cold': 769, 'sweat': 770, 'infototorqq': 771, 'ide': 772, 'terlalu': 773, 'bila': 774, 'catatan': 775, 'maki': 776, 'hrs': 777, '17': 778, 'hina': 779, 'besarnya': 780, 'harap': 781, 'tampak': 782, 'muka': 783, 'bayaran': 784, 'edhie': 785, 'baskoro': 786, 'mumpung': 787, 'kecil': 788, 'kemungkinan': 789, 'kunci': 790, 'tipis': 791, 'kira': 792, \"'dengan\": 793, 'menangis': 794, 'lalu': 795, 'panca66': 796, 'usah': 797, 'dipastikan': 798, '1000': 799, 'mati': 800, 'harga': 801, 'partai': 802, 'kami2': 803, 'anis': 804, 'hugging': 805, \"'mari\": 806, 'memiliki': 807, 'sesuai': 808, 'sok': 809, 'hangat': 810, 'oktober': 811, 'gini': 812, 'ahycenter': 813, \"dki'\": 814, 'berada': 815, 'tendemnya': 816, 'kualitas': 817, 'sylviana': 818, 'versi': 819, 'quick': 820, 'berkati': 821, 'ngerti': 822, \"'cari\": 823, 'resmi': 824, \"'hari\": 825, 'gubernurnya': 826, 'gratis': 827, 'dicintai': 828, 'seluruh': 829, 'kemana': 830, 'lepas': 831, \"'baru\": 832, 'kpud': 833, 'rapat': 834, 'basukidjarot': 835, 'janji2': 836, 'sang': 837, 'enthus': 838, 'bersatu': 839, 'dibawah': 840, \"'kasihan\": 841, 'walaupun': 842, 'juta': 843, 'langsung': 844, 'duit': 845, 'karwo': 846, 'zarazettirazz': 847, 'sesama': 848, \"'mau\": 849, 'jalan': 850, 'menyongsong': 851, \"'usai\": 852, 'persatuan': 853, \"positif'\": 854, 'target': 855, \"'apakah\": 856, 'ask': 857, 'hina2': 858, 'padamu': 859, 'disaat': 860, 'tersingkir': 861, 'persevering': 862, 'hampir': 863, \"'haha\": 864, 'bang': 865, 'iya': 866, 'ripjustice': 867, \"savenkri'\": 868, 'kayaknya': 869, 'rasa': 870, 'bagus': 871, 'mengenai': 872, 'jabar': 873, 'nyungsep': 874, 'akal': 875, 'ketika': 876, 'kompastv': 877, 'ahokdjarotdirosi': 878, \"'ternyata\": 879, 'adanya': 880, 'tweet': 881, 'duajari': 882, \"'kini\": 883, 'komitmen': 884, \"freeahok'\": 885, 'memperjuangkan': 886, 'kebenaran': 887, 'diperhitungkan': 888, 'perubahan': 889, 'buktinya': 890, 'meski': 891, 'kebanjiran': 892, 'penuh': 893, 'integritas': 894, 'waspada': 895, 'lawan': 896, 'iming': 897, 'diminta': 898, 'menipu': 899, 'polisi': 900, 'pro': 901, 'konstituen': 902, 'beritahati': 903, \"nasional'\": 904, 'disebar': 905, 'menjiplak': 906, 'yahudi': 907, 'membangun': 908, 'sentimen': 909, 'galak': 910, \"pilkadadki201'\": 911, 'akhirnya': 912, 'survei': 913, 'aamiin': 914, 'co': 915, 'ketua': 916, 'komplek': 917, 'bogor': 918, 'tetapahokdjarot': 919, 'petunjuk': 920, 'zalim': 921, 'murah': 922, 'ala': 923, 'uu': 924, 'model': 925, 'begini': 926, 'kecerdasan': 927, 'lompat': 928, 'tugas': 929, 'sih': 930, 'qc': 931, 'pasca': 932, 'usir': 933, 'habib': 934, 'belom': 935, \"'karena\": 936, 'wanita': 937, 'penginspirasi': 938, 'bener': 939, '4': 940, 'banjir': 941, 'betawi': 942, 'bersikap': 943, \"debatpilkadadki'\": 944, 'cek': 945, '7iuqa0': 946, 'mencintaimu': 947, 'tantangan': 948, 'bermain': 949, \"'warga\": 950, 'mencoblos': 951, \"moshing'\": 952, 'bentuk': 953, 'goal': 954, \"'jakarta\": 955, 'kerjanya': 956, 'teruntuk': 957, 'usung': 958, 'bola': 959, 'screaming': 960, 'in': 961, 'fear': 962, \"'bangga\": 963, 'menjaga': 964, 'baper': 965, 'bahwa': 966, 'ujian': 967, 'pancasila': 968, 'jakartagubernurbaru': 969, 'berjuang': 970, 'terlihat': 971, \"'pengamat\": 972, 'fals': 973, 'santun': 974, 'tulus': 975, 'insyaallah': 976, 'sejarah': 977, 'dunia': 978, 'dpr': 979, 'bersyukur': 980, 'ingkar': 981, 'curiga': 982, 'weary': 983, 'rasis': 984, '100': 985, 'pig': 986, 'siang': 987, 'om': 988, '19': 989, 'duduk': 990, 'islamrahmatanlilalamin': 991, 'konferensi': 992, 'kegilaan': 993, 'simpatik': 994, 'kalimat': 995, \"'jelas\": 996, 'abal2': 997, 'kantor': 998, 'btgm0rkl2dy': 999, \"'mestinya\": 1000, 'gus': 1001, 'negarawan': 1002, 'kalahpun': 1003, 'sasaran': 1004, 'kreator': 1005, \"hoax'\": 1006, 'djarod': 1007, 'is': 1008, 'best': 1009, 'inspirasi': 1010, \"emas'\": 1011, 'peka': 1012, 'jeblos': 1013, 'penjara': 1014, 'pupus': 1015, 'disana': 1016, 'guegeram': 1017, \"'buahahahhaha\": 1018, 'pendukungmu': 1019, 'bayar': 1020, \"detikcom'\": 1021, \"'ohh\": 1022, 'dipaksa': 1023, 'putuslantas': 1024, 'dikawin': 1025, 'paksa': 1026, 'bandot': 1027, 'bini': 1028, 'nyah': 1029, \"'anis\": 1030, 'persis': 1031, 'sabun': 1032, 'wangi': 1033, 'dipasar': 1034, 'pinter': 1035, 'mandi': 1036, \"'sayang\": 1037, 'dikader': 1038, 'sma': 1039, 'taruna': 1040, 'teratas': 1041, 'lagi2': 1042, \"pensiundini'\": 1043, 'ditutup': 1044, 'kusir': 1045, 'kusut': 1046, 'kualitasnya': 1047, 'terparah': 1048, \"ahokdjarotdirosi'\": 1049, \"'ih\": 1050, 'serem': 1051, 'bilangnya': 1052, 'pitenah': 1053, 'badjauntukjakarta': 1054, \"'pemenang\": 1055, 'datangkan': 1056, 'bungapak': 1057, \"ahokdicintairakyat'\": 1058, 'ahycuitan': 1059, 'sbycuitan': 1060, 'terindah': 1061, \"'hasil\": 1062, 'rt': 1063, '011': 1064, '010': 1065, '002': 1066, 'kelurahan': 1067, 'pela': 1068, 'mampang': 1069, 'lihatnya': 1070, 'lintangchrezl': 1071, 'hit': 1072, 'dx': 1073, 'chajanjr': 1074, \"arifinp76'\": 1075, 'tjahaja': 1076, 'saiful': 1077, 'mempengaruhi': 1078, 'pdi': 1079, 'ikhlas': 1080, 'tujukkan': 1081, \"berintregitas'\": 1082, 'pelaku': 1083, 'pengirim': 1084, 'sms': 1085, 'gelap': 1086, 'azhar': 1087, \"rizieq'\": 1088, 'sehat2': 1089, 'diakhir': 1090, 'jabatan': 1091, 'sebenarnya': 1092, \"'kajian\": 1093, 'gue': 1094, 'loh': 1095, 'dipikir': 1096, 'cemas': 1097, 'situasi': 1098, 'sosial': 1099, 'usai': 1100, 'berdampak': 1101, 'hanyaâ€': 1102, \"pgqy'\": 1103, \"'satu\": 1104, 'bagaimana': 1105, 'seribu': 1106, \"'tuduhan\": 1107, 'kerap': 1108, 'dilontarkan': 1109, 'ingusan': 1110, 'terdengar': 1111, 'dudah': 1112, 'berubah': 1113, 'sanjungan': 1114, 'sakit': 1115, 'kamis': 1116, \"lawansekulerradikal'\": 1117, 'terbuka': 1118, 'secara': 1119, 'pengambil': 1120, \"'kasian\": 1121, 'oh': 1122, 'kasian': 1123, 'peluru': 1124, '1milyar': 1125, 'mempan': 1126, 'menangin': 1127, \"pilkadaserentak2017'\": 1128, 'kompak': 1129, 'memukul': 1130, 'h': 1131, 'y': 1132, 'ahy4all': 1133, 'ahyforall': 1134, 'ahyhargamati': 1135, 'tni…': 1136, 'peduli': 1137, 'kloning': 1138, 'seolah2': 1139, 'opini': 1140, 'argumen': 1141, 'pmbenaran': 1142, \"terkecoh'\": 1143, 'berbakti': 1144, \"'menjadi\": 1145, 'berpikir': 1146, 'jernih': 1147, \"putaran2menang'\": 1148, 'disetiap': 1149, 'membludak': 1150, 'krn': 1151, 'dimasa': 1152, 'dtg': 1153, \"ahyforall'\": 1154, 'pemkot': 1155, 'raya': 1156, 'hasyim': 1157, 'ashari': 1158, 'nahdlatuloelama': 1159, 'kaos': 1160, 'dibagi': 1161, 'bagikan': 1162, 'dilingkungan': 1163, 'utan': 1164, 'kayu': 1165, 'jaktim': 1166, 'initerjadi': 1167, 'iri': 1168, 'tohh': 1169, \"jokowiahokjkt'\": 1170, \"'yuk\": 1171, 'fans': 1172, \"gubernurmuslim'\": 1173, \"muda'\": 1174, \"'3\": 1175, 'provinsi': 1176, 'jambi': 1177, 'turut': 1178, 'mengaminkan': 1179, 'tuit': 1180, \"terpilih'\": 1181, \"'doaku\": 1182, 'menyertai': 1183, 'may': 1184, 'storyofthestreet': 1185, 'bt8t9c9jqlx': 1186, 'bgm': 1187, 'kelasnya': 1188, 'sbg': 1189, 'berbesar': 1190, \"hati'\": 1191, 'bosan': 1192, 'jakartakerja': 1193, 'beretorika': 1194, 'berwacana': 1195, \"sajalah'\": 1196, \"'deddy\": 1197, 'corbuzier': 1198, 'indoharian': 1199, 'karanganbunga': 1200, \"memepolitik'\": 1201, 'belah': 1202, 'asing': 1203, 'broken': 1204, \"'takut\": 1205, 'buruan': 1206, 'kayanya': 1207, 'bulog': 1208, 'kaleee': 1209, 'colek': 1210, \"'membaca\": 1211, 'pencalonan': 1212, \"'yah\": 1213, 'khilaf': 1214, 'disayang': 1215, 'diajak': 1216, 'komitment': 1217, 'b': 1218, 'ujung': 1219, 'ujungnya': 1220, 'nyesel': 1221, \"'pepo\": 1222, 'menyatakan': 1223, 'pilkadarasapilpres': 1224, \"pilkada2017'\": 1225, 'bank': 1226, 'ikut2an': 1227, 'moneypolitic': 1228, 'see': 1229, 'monkey': 1230, \"ojkindonesia'\": 1231, \"'soal\": 1232, 'berguru': 1233, 'netizen': 1234, 'emosi': 1235, 'an': 1236, 'hafalan': 1237, \"'kampanyenya\": 1238, 'mentri': 1239, \"'maksud\": 1240, 'caper': 1241, \"'kemungkinan\": 1242, 'disengaja': 1243, 'sepaket': 1244, 'risau': 1245, \"hahahahahaha'\": 1246, 'diomongin': 1247, 'kenyataan': 1248, 'dpn': 1249, 'hariswijaya1975': 1250, 'ranabaja': 1251, \"didiklpambudi'\": 1252, \"'kepemimpinan\": 1253, 'pemerintah': 1254, \"salam2jari'\": 1255, \"'daripada\": 1256, 'kirim': 1257, \"kalahpilkada'\": 1258, 'sepenuh': 1259, \"merdeka'\": 1260, \"'trimakasih\": 1261, 'degan': 1262, 'papan': 1263, 'pakahok': 1264, 'btbroj0hncs': 1265, 'percaya': 1266, 'kondisi': 1267, 'cuaca': 1268, 'kontribusi': 1269, \"'saran\": 1270, 'nganan': 1271, 'ikutan': 1272, 'bete': 1273, 'taufik': 1274, 'nggak': 1275, 'kak': 1276, 'soooo': 1277, 'pastiiii': 1278, 'jangantakutpilih2': 1279, \"pilihbadja'\": 1280, \"'allah\": 1281, 'subhanallah': 1282, 'pemprovamanah': 1283, 'pemenangdihatirakyat': 1284, \"piss'\": 1285, 'pentolan': 1286, 'inggris': 1287, 'chris': 1288, 'martin': 1289, 'penggembosmu': 1290, \"'djarot\": 1291, 'ucapkan': 1292, 'syukuran': 1293, 'dipenjara': 1294, 'w7im30bfdmb': 1295, \"'antasari\": 1296, 'diancam': 1297, 'harry': 1298, 'tanoe': 1299, '9kbbpajibtc': 1300, 'metrotv': 1301, \"kimjongnam'\": 1302, 'dinistakan': 1303, 'mengaku': 1304, 'beragama': 1305, 'vote': 1306, '07': 1307, 'btdsmeylbz8': 1308, 'kah': 1309, 'deklarasi': 1310, 'optimis': 1311, 'jakartaku': 1312, 'menentukan': 1313, 'yme': 1314, 'senator': 1315, 'beraura': 1316, \"senatordkidukungagussylvi'\": 1317, \"'kicauan\": 1318, 'brt': 1319, 'st': 1320, '5qq7': 1321, \"jakartaadalahkita'\": 1322, \"'enam\": 1323, 'serang': 1324, \"sendiri'\": 1325, 'hati2': 1326, 'awasin': 1327, 'ketahuan': 1328, \"sembako'\": 1329, \"'ingat\": 1330, 'omongan': 1331, 'agusharimurtiyudhoyono': 1332, 'ahyâ€': 1333, 'brojg0gbpya': 1334, \"'mulut\": 1335, 'jorok': 1336, 'pertanda': 1337, 'kuat': 1338, \"yangbikinberantem'\": 1339, \"ahymaininsara'\": 1340, 'hoaks': 1341, 'ingat': 1342, 'muktamar': 1343, 'wajibkan': 1344, 'nahdliyin': 1345, 'sultra': 1346, \"'para\": 1347, 'kembang': 1348, 'dibohongi': 1349, 'tua': 1350, \"'pelajaran\": 1351, 'kesabaran': 1352, 'invisible': 1353, 'kom': 1354, 'ps': 1355, 'afwlj5': 1356, 'ahokselaludihati': 1357, \"ahokmartir'\": 1358, \"'daftar\": 1359, 'terealisasi': 1360, 'tanggung': 1361, \"pathdaily'\": 1362, 'harisantrinasional': 1363, \"'stress\": 1364, 'guberner': 1365, 'ntt': 1366, 'bt6vcakd2odn28tq0': 1367, '1w': 1368, '3a6hiqagnqdh': 1369, '2t7g0': 1370, \"'pilihan\": 1371, 'jkt': 1372, 'selain': 1373, \"anies'\": 1374, 'kawalc6coblosno2': 1375, 'putaran2menang': 1376, 'menanggung': 1377, 'akibat': 1378, 'ayahnya': 1379, 'produktif': 1380, 'buniyani': 1381, 'bui': 1382, 'pecatan': 1383, \"bloon'\": 1384, 'forri1': 1385, 'ruchan': 1386, 'jkt48': 1387, \"830605267070902274'\": 1388, \"'jadi\": 1389, 'serahkan': 1390, 'takdir': 1391, 'e': 1392, 'ktp': 1393, 'dikorupsi': 1394, 'fotoku': 1395, 'semula': 1396, 'pelan': 1397, 'skrang': 1398, \"stickmoticons”'\": 1399, \"'tandatangan\": 1400, 'petisi': 1401, 'stop': 1402, 'mendukung': 1403, 'kebebasan': 1404, \"demokratbersamarakyat'\": 1405, 'istirahat': 1406, 'ronde': 1407, 'panjang': 1408, 'penjahat': 1409, \"basukidjarot'\": 1410, \"'nasi\": 1411, 'bungkus': 1412, 'terdeteksi': 1413, \"'fasisme\": 1414, 'merangkul': 1415, 'sekaligus': 1416, 'islamisme': 1417, 'orde': 1418, \"debatfinalpilgubdki'\": 1419, 'pagi': 1420, 'salam': 1421, 'jari': 1422, \"pilkadajakarta'\": 1423, 'kpudkijakarta': 1424, 'sumarmo': 1425, 'saksi': 1426, 'tandatangani': 1427, 'rekapitulasi': 1428, \"p1dbny'\": 1429, \"'sah\": 1430, 'sah': 1431, 'ukur': 1432, 'kedewasaan': 1433, 'artinya': 1434, 'pola': 1435, 'primitif': 1436, \"politikuangahy'\": 1437, \"'ngawal\": 1438, 'ampenan': 1439, 'fkppi': 1440, 'bodyguard': 1441, 'military': 1442, 'myjob': 1443, 'btysqvcjlv5': 1444, \"'sejak\": 1445, 'asyik': 1446, \"ya'\": 1447, 'brothers': 1448, 'demiahok': 1449, 'kemaren': 1450, '841350678345736192': 1451, \"…'\": 1452, \"'ha\": 1453, 'milih': 1454, 'cina': 1455, 'hah': 1456, 'speak': 1457, \"'lebih\": 1458, 'dosen': 1459, 'dibanggakan': 1460, 'membohongi': 1461, 'terhormat': 1462, \"curang'\": 1463, \"'berdasarkan\": 1464, 'galon': 1465, 'adaaqua': 1466, 'saingan': 1467, 'ye': 1468, 'bunganya': 1469, 'apresiasi': 1470, 'relakan': 1471, 'relawannya': 1472, \"2017'\": 1473, 'muri': 1474, 'diusulkan': 1475, 'gwr': 1476, \"indonesiahebat'\": 1477, 'medan': 1478, 'ahokshow': 1479, 'melayani': 1480, 'warganya': 1481, \"ahokkalah'\": 1482, \"'langkah\": 1483, 'kuda': 1484, '95ldom': 1485, 'pilakada': 1486, 'arainsanr': 1487, 'aniessandino3': 1488, 'rapatkan': 1489, 'mempunyai': 1490, \"pilkadajakartaaman'\": 1491, \"'gunawan\": 1492, 'freely': 1493, 'anggota': 1494, 'dprd': 1495, 'talaud': 1496, 'pasang': 1497, 'perbtasan': 1498, 'filipina': 1499, 'berkata': 1500, 'menunjukan': 1501, 'merosot': 1502, 'elektabilitasnya': 1503, \"'sedihnya\": 1504, 'bhinneka': 1505, 'semata': 1506, 'savejakarta': 1507, 'savenkri': 1508, 'mengazab': 1509, 'wahai': 1510, \"'tim\": 1511, \"'karna\": 1512, 'belebihan': 1513, 'bah': 1514, 'precariat': 1515, 'lumayan': 1516, 'membantu': 1517, 'berantem': 1518, 'kaya': 1519, 'kopdar': 1520, 'luas': 1521, 'sedikit': 1522, 'calo': 1523, 'ribet': 1524, \"'apapun\": 1525, 'hasilnya': 1526, 'kebanggaan': 1527, \"'kekuasaan\": 1528, 'terimakasihpakahok': 1529, \"terimakasihahok'\": 1530, 'keluarga': 1531, \"'siapapun\": 1532, 'savouring': 1533, 'delicious': 1534, 'food': 1535, 'kissing': 1536, 'ahy…': 1537, 'pembenci': 1538, 'goblok': 1539, \"badja'\": 1540, '70': 1541, 'sentimennya': 1542, 'wkwkwk': 1543, 'tni': 1544, \"pilkadarasapilpres'\": 1545, \"'nunggu\": 1546, 'selanjutnya': 1547, 'membicarakan': 1548, 'solusi': 1549, 'mengatasi': 1550, 'nol': 1551, \"debat1pilkadadki'\": 1552, 'rumit': 1553, 'membedakan': 1554, 'antara': 1555, 'hitam': 1556, 'putih': 1557, 'doyan': 1558, \"gaduh'\": 1559, 'marah': 1560, \"'peach\": 1561, 'pilkada2017': 1562, \"btdyvunaw'\": 1563, \"'sejuta\": 1564, 'indonesiaraya': 1565, 'bt6ioerhydo': 1566, \"'syukur\": 1567, 'lembar': 1568, 'c6': 1569, 'colok': 1570, \"'pemimpin\": 1571, \"'sekarang\": 1572, 'manuver': 1573, 'pilgubjkt': 1574, 'pendidikan': 1575, 'totorqq': 1576, \"'begini\": 1577, 'ajak': 1578, 'baca': 1579, 'selengkapnya': 1580, \"'perlu\": 1581, 'gila': 1582, 'redkarpet': 1583, 'longredcarpet': 1584, 'longredcarpetahokdjarot': 1585, \"'sejujurnya\": 1586, 'penilaian': 1587, 'subyektif': 1588, 'cepat': 1589, 'mencaci': 1590, 'pepo': 1591, 'mengemis': 1592, 'kpd': 1593, \"'jiwa\": 1594, 'teladan': 1595, \"'meskipun\": 1596, 'kesempatan': 1597, 'menduduki': 1598, \"2022'\": 1599, 'bebas': 1600, 'suaramu': 1601, 'dibeli': 1602, 'muslimvotemuslim': 1603, 'ottsembakoahok': 1604, 'pilihanmumasadepanmu': 1605, \"pilkadadki2'\": 1606, \"'datang\": 1607, 'pulang': 1608, 'punggung': 1609, 'kepri': 1610, 'demokratkelilingnusantara': 1611, \"'secara\": 1612, 'kesatria': 1613, 'ulama': 1614, \"'insya\": 1615, 'mendahului': 1616, 'nglamar': 1617, 'said': 1618, 'aqil': 1619, 'sejalan': 1620, \"nu'\": 1621, 'menyapa': 1622, 'selamatpagi': 1623, 'edhiewibowo': 1624, '55': 1625, \"ranabaja'\": 1626, \"'kering\": 1627, 'saatnya': 1628, 'menghisap': 1629, 'anisandi': 1630, 'stok': 1631, 'darahnya': 1632, 'bergudang': 1633, 'gudang': 1634, 'hantu': 1635, 'diminum': 1636, 'setan': 1637, \"'sebagian\": 1638, 'basis': 1639, 'pikirkan': 1640, 'sejatinya': 1641, 'ajibarang': 1642, 'diprovokasi': 1643, 'isue': 1644, \"gombalinahok'\": 1645, 'bergetar': 1646, 'maaf': 1647, 'kecewakan': 1648, '2ksoa2g': 1649, \"'video\": 1650, 'hancurkan': 1651, 'kebhinekaan': 1652, 'zrui0g': 1653, \"'ketika\": 1654, 'berpidato': 1655, 'timnya': 1656, 'terdiam': 1657, 'melepaskan': 1658, \"bambangelf'\": 1659, \"'catat\": 1660, 'segera': 1661, 'mikir': 1662, 'sebelah': 1663, 'kiri': 1664, 'miliki': 1665, 'arrow': 1666, \"'logikanya\": 1667, 'ke1': 1668, 'psikologis': 1669, \"'manado\": 1670, \"mati'\": 1671, \"'anggap\": 1672, 'sebulan': 1673, 'kemudian': 1674, 'dijual': 1675, 'pindah': 1676, 'elit': 1677, 'pks': 1678, \"'menit\": 1679, '51': 1680, 'huhuhu': 1681, 'bapaknya': 1682, 'nangis': 1683, \"'senjata\": 1684, 'makan': 1685, 'tuan': 1686, 'aka': 1687, 'karma': 1688, 'populerb1': 1689, 'kicauan': 1690, 'hari2': 1691, 'usul': 1692, 'bergerak': 1693, 'jakartatimur': 1694, 'sosialisasi': 1695, 'programkerja': 1696, 'ahyhumorlagu': 1697, 'kisah': 1698, 'bangun': 1699, \"'rakyat\": 1700, 'perjuangkan': 1701, 'bt6eq61hzfw': 1702, 'pribumi': 1703, 'dimulai': 1704, \"'bismillah\": 1705, 'esok': 1706, 'tuntunan': 1707, 'alquran': 1708, 'diridhai': 1709, \"swt'\": 1710, \"'sederhana\": 1711, 'mempertanyakan': 1712, 'berarti': 1713, 'skeptis': 1714, 'kontra': 1715, \"'sambutan\": 1716, 'cobaan': 1717, 'menimpa': 1718, 'menjadikan': 1719, 'trophy': 1720, 'dilantik': 1721, \"ahokmandikembang'\": 1722, 'r1': 1723, \"yudhoyono'\": 1724, '19april2017': 1725, 'suaraku': 1726, 'telak': 1727, 'diseluruh': 1728, 'wilayah': 1729, 'kzrymf': 1730, \"'tinggal\": 1731, 'seleksi': 1732, 'mengurangi': 1733, \"'ketemu\": 1734, 'istiqlal': 1735, 'murni': 1736, 'zarazettirazr': 1737, \"sohibahy'\": 1738, \"'sempat\": 1739, 'terkejut': 1740, 'count': 1741, \"menginspiras'\": 1742, \"'betul\": 1743, \"abang'\": 1744, 'alien': 1745, 'triandry': 1746, 'pertempuranakhirjawarajkt': 1747, 'deklarasippp': 1748, 'rompiskasmaran': 1749, \"'hellloooo\": 1750, 'or': 1751, 'dek': 1752, 'ngopi': 1753, 'gih': 1754, \"penikmatkopi'\": 1755, \"'waduh\": 1756, 'gunakan': 1757, 'apbd': 1758, 'alat': 1759, \"nty5vw'\": 1760, 'yee': 1761, '1dan3': 1762, 'keinginan': 1763, 'dlu': 1764, 'dengar': 1765, 'wisata': 1766, 'riang': 1767, 'penuhnya': 1768, 'balaikotadki': 1769, 'gusur': 1770, 'jutaan': 1771, 'blogspot': 1772, \"'bukti\": 1773, 'begtiu': 1774, 'warganyanamun': 1775, 'terhornat': 1776, 'karna': 1777, 'kelicikan': 1778, 'menjijikan': 1779, 'lawanya': 1780, 'beginilah': 1781, 'jaman': 1782, 'menyedihkan': 1783, \"'artis\": 1784, 'selamati': 1785, 'rekannya': 1786, 'xvnn30ayras': 1787, 'hasilc10': 1788, 'ba2ukidjarot': 1789, 'matarakyat': 1790, 'kawalpilkada': 1791, '58': 1792, 'duri': 1793, 'kosambi': 1794, \"cengkareng'\": 1795, 'rizieqpulang': 1796, 'lilinuntukahok': 1797, 'andai': 1798, \"'om\": 1799, 'tutup': 1800, 'mulut': 1801, 'koar': 1802, 'bongkar': 1803, \"sby'\": 1804, 'countttp': 1805, '2putaran': 1806, 'plintir': 1807, 'nehh': 1808, 'vivarevolusi': 1809, 'tempodotco': 1810, 'republikaonline': 1811, \"'hati\": 1812, 'komentar': 1813, 'kalahpilkada': 1814, 'ujung2nya': 1815, 'dituduh': 1816, \"nyinyir'\": 1817, \"'waaaah\": 1818, 'pilkadadkijakarta2017': 1819, \"'ke\": 1820, 'kehabisan': 1821, 'batam': 1822, 'btbytzqaqi6jziowgmclanpdleuhoxyz8bwolu0': 1823, 'pakar': 1824, 'surat': 1825, 'anas': 1826, 'urbaningrum': 1827, 'jeruji': 1828, 'besi': 1829, 'sindiran': 1830, 'ko': 1831, 'kini': 1832, 'goreng': 1833, 'kamvreetttt': 1834, \"okeoce'\": 1835, \"'amieeennnnn\": 1836, 'manis': 1837, \"sejati'\": 1838, 'berama': 1839, 'dalang': 1840, 'ahokdjarotlebihbaik': 1841, \"salamduajari'\": 1842, \"'saatnya\": 1843, 'sudahi': 1844, 'perselisihan': 1845, 'mari': 1846, \"'integrasi\": 1847, 'rusun': 1848, 'pasar': 1849, 'bioskop': 1850, 'semasa': 1851, 'ditunggu': 1852, 'kelanjutannya': 1853, 'umroh': 1854, 'dibantu': 1855, \"'siaran\": 1856, 'bs3yhwsgak7': 1857, \"'marilah\": 1858, 'kemari': 1859, 'disini': 1860, 'cover': 1861, 'by': 1862, 'citra': 1863, 'alain': 1864, \"ahokshow'\": 1865, \"'pdi\": 1866, 'perkuat': 1867, \"jakartapunyasemua'\": 1868, \"'makin\": 1869, 'stress': 1870, 'dipikiran': 1871, 'itung': 1872, '4000': 1873, 'x': 1874, '200': 1875, '000': 1876, 'berapa': 1877, 'dananya': 1878, 'melebihi': 1879, \"materi'\": 1880, 'aniestidakkonsisten': 1881, 'boongya': 1882, \"menolaklupa'\": 1883, 'setuju': 1884, 'syariah': 1885, \"matanajwa'\": 1886, 'dilihat': 1887, 'upaya': 1888, 'mengenalkan': 1889, 'berhasil': 1890, 'blusukan': 1891, 'pakdhe': 1892, 'dhe': 1893, 'isyaratkan': 1894, \"jatim'\": 1895, 'ndoro': 1896, 'ngebully': 1897, 'swt': 1898, 'rahmat': 1899, 'mendzolimi': 1900, 'berlari': 1901, \"depan'\": 1902, \"'kepada\": 1903, 'terprovokasi': 1904, 'mengotori': 1905, 'tangan2': 1906, 'hal2': 1907, 'mengandung': 1908, 'nazis': 1909, 'nusantara': 1910, 'merajut': 1911, 'prinsip': 1912, 'sebuah': 1913, 'dinamis': 1914, 'hildathawilla': 1915, 'panti': 1916, \"silaban'\": 1917, \"'kira\": 1918, 'nyasar': 1919, \"orangkokbisanyinyirbgt\\t'\": 1920, \"'sinyal\": 1921, 'merapat': 1922, 'pilkadadkijakarta': 1923, 'harianbernas': 1924, '32894': 1925, 'sinyal': 1926, \"'pada\": 1927, 'berlaku': 1928, \"aniessandimenang'\": 1929, \"'blunder\": 1930, 'ngemis': 1931, 'jleb': 1932, 'berjalan': 1933, \"bermartabat'\": 1934, 'kalahkami': 1935, 'ahyjalanmu': 1936, 'panjangkesuksesan': 1937, 'menantimu': 1938, \"'awas\": 1939, 'metamorfosis': 1940, 'kecebong': 1941, 'brubah': 1942, 'anjing': 1943, 'penjilat': 1944, 'dilanjuntukan': 1945, 'vs': 1946, \"'ahhhh\": 1947, 'bukannya': 1948, 'aji': 1949, 'disitu': 1950, \"'postingan\": 1951, '28': 1952, 'januari': 1953, 'meneduhkan': 1954, \"'turun\": 1955, 'pangkat': 1956, \"kamu'\": 1957, 'peran': 1958, 'loyalis': 1959, \"basukikeokmasukbui'\": 1960, \"'1000\": 1961, 'manadokota': 1962, 'digembok': 1963, 'antrian': 1964, 'il': 1965, 'phenomenon': 1966, 'seorg': 1967, 'figur': 1968, 'temanahokfair': 1969, 'bt8dssfhp3l': 1970, 'programnya': 1971, \"persija'\": 1972, \"'sudahlah\": 1973, 'pusing': 1974, 'lagian': 1975, 'jawab': 1976, 'tenangkonsentrasiberdoaselalu': 1977, 'bahagia': 1978, 'manakah': 1979, 'samurai': 1980, 'prajurit': 1981, 'pembangun': 1982, 'pahlawan': 1983, 'dinanti': 1984, 'nantikan': 1985, 'ngopisore': 1986, \"tribunmedan'\": 1987, 'perjuanganmu': 1988, 'tahun': 1989, 'terbang': 1990, \"'lambang\": 1991, 'matinya': 1992, 'waras': 1993, 'mengendalikan': 1994, 'ahoktumbang': 1995, 'lihatin': 1996, 'slightly': 1997, \"'cakeeepppp\": 1998, 'bersatunya': 1999, 'hilang': 2000, 'takviri': 2001, 'wahhabicc': 2002, 'embah72': 2003, 'gerilyapolitik': 2004, 'cagubnyinyir': 2005, \"kangdede78'\": 2006, 'khususnya': 2007, 'abused': 2008, 'islamist': 2009, \"radicals'\": 2010, \"'paduan\": 2011, \"'lagi\": 2012, 'nongkrong': 2013, 'masang': 2014, 'jogja': 2015, 'bungaahok': 2016, \"bungauntukahok'\": 2017, 'diperbuat': 2018, 'kemaslahatan': 2019, 'segelintir': 2020, 'ditikung': 2021, 'parpol': 2022, 'mengalahkan': 2023, 'tarik': 2024, 'kesimpulannya': 2025, \"yep'\": 2026, 'ku': 2027, 'beneran': 2028, 'syahrir': 2029, 'lantoni': 2030, 'telikung': 2031, 'dibajak': 2032, 'pula': 2033, 'iklan': 2034, 'streaming': 2035, 'bsyhnl4fph5': 2036, 'salamduajari': 2037, 'kode': 2038, 'code': 2039, 'gangster': 2040, 'farmer': 2041, 'foodhero': 2042, 'bs1x10': 2043, 'bovd': 2044, 'perangi': 2045, 'faktanya': 2046, 'pengikutmu': 2047, 'caci': 2048, 'bubarkanfpi': 2049, \"mat'\": 2050, 'arena': 2051, 'tabir': 2052, 'kegelapan': 2053, 'tiada': 2054, 'kembali': 2055, 'menyergap': 2056, 'ketulusan': 2057, 'gampang': 2058, 'msp': 2059, 'ahokfornobel': 2060, \"silake5'\": 2061, 'manfaat': 2062, 'kask': 2063, 'us': 2064, 'ioqk2': 2065, 'forumkaskus': 2066, \"kaskus'\": 2067, 'omonganmu': 2068, 'matanajwa': 2069, \"'http\": 2070, 'nkmx90am3ay': 2071, 'virall': 2072, 'bocah': 2073, 'injak2': 2074, 'kotak2': 2075, 'kecewa': 2076, 'wingstourinjakarta': 2077, \"'jerih\": 2078, 'lelahmu': 2079, 'menegakkan': 2080, 'gbu': 2081, \"'baju\": 2082, 'ahokdjarot…': 2083, 'bs3xzkflwvz': 2084, 'tompi': 2085, 'lakukan': 2086, 'meroket': 2087, 'election': 2088, 'gubernur…': 2089, 'bs3divjbtna': 2090, 'wallahulmuwafiq': 2091, 'ilaaqwamithoriq': 2092, 'mencerminkan': 2093, 'ahysylvi': 2094, 'panik': 2095, 'ketar': 2096, 'ketir': 2097, 'sana': 2098, \"'mentang\": 2099, 'mentang': 2100, 'belakangnya': 2101, 'keuntungan': 2102, 'novel': 2103, \"pilgubdki'\": 2104, 'fenomena': 2105, \"alam'\": 2106, \"'menemukan\": 2107, 'lingkaran': 2108, 'masalah': 2109, 'kwalitas': 2110, \"'deklarasi\": 2111, 'sepihak': 2112, 'konsultasi': 2113, 'persetujuan': 2114, 'pengorbanan': 2115, 'perjuangan': 2116, 'rezim': 2117, 'koplak': 2118, 'nyatahasil': 2119, 'terselesaikan': 2120, 'lagitinggal': 2121, 'meneruskan': 2122, 'karakter': 2123, 'barusan': 2124, 'omongkan': 2125, \"'kasih\": 2126, 'kjl': 2127, 'orangtua': 2128, 'lansia': 2129, 'l2e0wn': 2130, \"'sudah\": 2131, 'ngakak': 2132, 'jauh': 2133, 'panggang': 2134, 'api': 2135, \"'sebentar\": 2136, 'komen': 2137, 'settingan': 2138, 'pencitraan': 2139, 'disuruh': 2140, 'hahaha': 2141, 'menyadari': 2142, 'sarung': 2143, 'selfienya': 2144, 'motivasi': 2145, 'terselubung': 2146, 'hmmm': 2147, \"'bawa\": 2148, 'ganja': 2149, 'ciduk': 2150, 'penyanyi': 2151, 'iwak': 2152, \"pilkadajakarta\\t'\": 2153, 'net': 2154, 'talkshow': 2155, 'jakartapunyasemua': 2156, 'temenahok': 2157, 'ahokdjarotmenang': 2158, \"jakartakece'\": 2159, 'risih': 2160, 'mulutnya': 2161, 'gerombolan': 2162, 'khilafah': 2163, 'dibelakangnya': 2164, 'muncul': 2165, 'penampilan': 2166, 'tampilan': 2167, 'adjierimbawan': 2168, 'diangkat': 2169, 'dishare': 2170, 'padahal': 2171, 'buzzer': 2172, 'jelang': 2173, 'putaranke2': 2174, \"'lho\": 2175, 'jpnn': 2176, 'lho': 2177, \"hashemmelech'\": 2178, \"'kata\": 2179, 'babe': 2180, 'nomor': 2181, 'kebagusanpala': 2182, 'soang': 2183, 'bs3slrfgfvb': 2184, \"'jual\": 2185, 'bekas': 2186, 'pm': 2187, 'for': 2188, 'info': 2189, \"'terlalu\": 2190, 'diaplikasikan': 2191, 'program2': 2192, 'bahkan': 2193, 'cenderung': 2194, 'nyambung': 2195, 'bahasa': 2196, 'teknisnya': 2197, \"prihatin'\": 2198, 'maksud': 2199, 'prostitusi': 2200, 'perjudian': 2201, 'kalijodo': 2202, 'tertata': 2203, 'rapih': 2204, 'megapolitan': 2205, 'kompas': 2206, 'read': 2207, '04': 2208, '15': 2209, '19414861': 2210, \"ani'\": 2211, \"'marasa\": 2212, 'beruntung': 2213, 'sign': 2214, 'horns': 2215, \"'wasekjen\": 2216, 'nilai': 2217, 'suduntukan': 2218, 'vriziy': 2219, 'lawannya': 2220, 'humas': 2221, 'diplomasi': 2222, \"'habiburokhman\": 2223, 'aniessandigubernurkita': 2224, 'aniesâ€': 2225, 'simpati': 2226, 'teruji': 2227, 'terukur': 2228, \"'bisa\": 2229, 'sebagian': 2230, 'voter': 2231, \"'diberbagai\": 2232, 'dimenangkan': 2233, \"'mesin\": 2234, 'robot': 2235, 'dimatiin': 2236, 'trending': 2237, \"topik'\": 2238, 'pintar': 2239, 'buanyak': 2240, 'memainkan': 2241, 'mengelola': 2242, 'yra': 2243, 'klop': 2244, 'dah': 2245, \"'double\": 2246, 'lol': 2247, 'nuduh': 2248, 'miskin': 2249, 'copy': 2250, 'republika': 2251, \"id'\": 2252, \"'sabtu\": 2253, 'ngobrol': 2254, 'pilkadadkiternyata': 2255, 'super': 2256, 'maksa': 2257, \"milyar'\": 2258, \"'introspeksi\": 2259, 'bua2fqxldza': 2260, \"'lini\": 2261, 'pertahanan': 2262, 'rapuh': 2263, 'aksi': 2264, '112': 2265, 'kataahok': 2266, '3ya3': 2267, 'sabang': 2268, 'merauke': 2269, \"youtube'\": 2270, \"islamrahmatanlilalamin'\": 2271, \"'ribuan\": 2272, \"'sembako\": 2273, 'langgar': 2274, 'viva': 2275, 'id': 2276, 'suap': 2277, 'menghina': 2278, 'suarakankebenaran': 2279, 'weedbegoodtogether': 2280, 'katakitaig': 2281, 'bs3mqf8lxnp': 2282, 'pkb': 2283, 'ahokpenistaagama': 2284, 'ke2': 2285, 'ditinggalkan': 2286, 'vocalis': 2287, 'rock': 2288, 'mulu': 2289, 'kerjaannya': 2290, \"quickcount'\": 2291, \"'memilih\": 2292, 'melecehkan': 2293, 'sehat': 2294, 'akhir': 2295, 'tp': 2296, 'motif': 2297, \"'12\": 2298, 'puji': 2299, 'dibela': 2300, 'malu': 2301, 'bersalah': 2302, 'mengharapkan': 2303, \"'aneh\": 2304, 'aneh': 2305, \"'tapi\": 2306, 'buruk': 2307, 'track': 2308, 'record': 2309, 'memberantas': 2310, 'nihil': 2311, \"'dilarang\": 2312, 'nonmuslim': 2313, \"'pingin\": 2314, 'nuntut': 2315, 'maunya': 2316, \"tanyakenapa'\": 2317, 'bergaya': 2318, 'sporty': 2319, \"lampost'\": 2320, 'berkinerja': 2321, \"keadilan'\": 2322, \"demokrat'\": 2323, \"'gagal\": 2324, 'diisukan': 2325, 'eccmdw': 2326, 'headlines': 2327, 'politikbirokrasi': 2328, \"'heeebohhhh\": 2329, '6': 2330, 'tmpat': 2331, 'menggunakan': 2332, 'hak': 2333, 'pilihnya': 2334, \"ahy\\t'\": 2335, 'kuliah': 2336, \"'perbedaan\": 2337, 'cari': 2338, \"riphukum'\": 2339, \"'joke\": 2340, 'serentak': 2341, 'bravo': 2342, 'masril': 2343, 'pku': 2344, 'chilli': 2345, 'pari': 2346, \"'kemana\": 2347, 'pilgubdki2017': 2348, 'melempem': 2349, 'akting': 2350, 'brxabmtbueb': 2351, \"'hoax\": 2352, 'tidakada': 2353, 'habis2nya': 2354, 'pencoblosan': 2355, 'fotonya': 2356, 'tulisanya': 2357, 'dusta': 2358, 'angry': 2359, \"'itu\": 2360, 'merasakan': 2361, 'pouting': 2362, 'bajingan': 2363, 'tengik': 2364, 'sogok': 2365, 'bangsat': 2366, \"berbahaya'\": 2367, 'pdhal': 2368, \"mastbp'\": 2369, \"'bu\": 2370, 'keberanian': 2371, 'ngga': 2372, 'ngambang': 2373, 'banci': 2374, 'perempuan': 2375, 'tulen': 2376, 'sebentar': 2377, 'tandingan': 2378, \"'dia\": 2379, 'banteng': 2380, 'garuda': 2381, 'gentle': 2382, 'spt': 2383, \"hajidjarot'\": 2384, \"'2\": 2385, 'mesti': 2386, 'nyuruh': 2387, 'restyseterah': 2388, \"status'\": 2389, \"'keikhlasan\": 2390, 'berkorban': 2391, 'sia2': 2392, \"non'\": 2393, 'intinya': 2394, 'buta': 2395, 'peta': 2396, 'pelayan': 2397, 'pilkades': 2398, \"rame'\": 2399, \"'batal\": 2400, 'kertas': 2401, 'kangen': 2402, \"mosing\\t'\": 2403, \"terbaik'\": 2404, 'beberkan': 2405, 'kronologi': 2406, 'pengusiran': 2407, 'dirinya': 2408, 'sholat': 2409, 'jumat': 2410, '2pgp5m1': 2411, \"'terkadang\": 2412, 'dewasa': 2413, 'diajarkan': 2414, 'a1': 2415, \"awesome'\": 2416, \"'kuliah\": 2417, 'mahasiswa': 2418, 'at': 2419, 'umrah': 2420, 'dompak': 2421, \"â€”'\": 2422, \"'langsung\": 2423, 'black': 2424, 'campaign': 2425, 'nongol': 2426, 'katanya': 2427, 'legowo': 2428, 'hahaa': 2429, 'tangis': 2430, 'pd': 2431, 'paradenyanyianuntukahok': 2432, 'dipimpin': 2433, \"'maju\": 2434, 'pilihpemimpinmuslim': 2435, \"debat2pilkadadki'\": 2436, \"'kematian\": 2437, \"tegakkankebenaran'\": 2438, 'sujud': 2439, 'khabarnya': 2440, 'penangguhan': 2441, 'tahanan': 2442, 'setujuin': 2443, \"pulang'\": 2444, 'pensiun': 2445, 'dini': 2446, 'menantang': 2447, \"ridwankamil'\": 2448, 'pendapat': 2449, 'â€”': 2450, 'hebat': 2451, 'utus': 2452, 'gueahok': 2453, 'l': 2454, 'fm': 2455, \"igoto'\": 2456, \"'golput\": 2457, 'nampaknya': 2458, 'berdiri': 2459, 'melalui': 2460, \"indonesiaberkabung'\": 2461, 'kotor': 2462, \"nnsydv'\": 2463, 'bekasi': 2464, 'tangerang': 2465, 'depok': 2466, 'dihimbau': 2467, '3jangan': 2468, \"'inilah\": 2469, 'sesungguhnya': 2470, 'mengalah': 2471, 'pecah': 2472, 'brutal': 2473, \"pihak'\": 2474, \"'gak\": 2475, 'kesayangan': 2476, 'buang2': 2477, 'beginian': 2478, \"gembira'\": 2479, '13': 2480, 'namun': 2481, 'dicontohkan': 2482, 'paska': 2483, 'perentangan': 2484, 'tajam': 2485, 'nasionalisme': 2486, 'pancasilais': 2487, 'dimiliki': 2488, 'dikatakan': 2489, 'santri': 2490, \"mondok'\": 2491, 'sandiaga': 2492, 'jual': 2493, 'mimpi': 2494, \"selanjutnya'\": 2495, \"'semangat\": 2496, 'menyertaimu': 2497, \"ripjusticeinindonesia'\": 2498, 'keyakinan': 2499, 'keberhasilan': 2500, 'improvisasi': 2501, 'ahydi': 2502, \"'cuma\": 2503, 'jarot': 2504, 'membereskan': 2505, 'ngayal': 2506, 'kipas': 2507, 'dicari': 2508, 'mimpin': 2509, 'omong': 2510, 'kosong': 2511, 'besokguaahok': 2512, \"pastikanbesokdua'\": 2513, 'menempatkan': 2514, 'terhindar': 2515, 'saling': 2516, 'hujat': 2517, 'buka': 2518, 'aib': 2519, 'pandai': 2520, 'kata2': 2521, \"'waktu\": 2522, 'ah': 2523, 'sudahlah': 2524, 'didienazhar': 2525, 'pluit': 2526, 'etnis': 2527, 'kvn4o5': 2528, 'wargapluit': 2529, \"btp'\": 2530, \"'lholho\": 2531, 'dhuafa': 2532, 'situ': 2533, 'uangnya': 2534, 'bomb': 2535, 'dp0': 2536, 'ahokkeok': 2537, 'ahokfornobel2017': 2538, 'ahoklovers': 2539, 'ahokbtp': 2540, 'bube8r': 2541, 'bjnj': 2542, \"'balaikota\": 2543, 'rame': 2544, 'kiriman': 2545, 'mengalir': 2546, 'bicara': 2547, 'lap': 2548, 'air': 2549, \"wkwkwkwk'\": 2550, \"'positif\": 2551, 'pdip': 2552, 'me': 2553, \"4wthllcnz'\": 2554, \"'mui\": 2555, 'sesalkan': 2556, 'pemberian': 2557, 'gelar': 2558, 'sunan': 2559, 'ntx57v': 2560, 'sekjenpartaidemokrat': 2561, 'diskusipolitik': 2562, 'turunkan': 2563, 'kedepan': 2564, 'wearethenextleader': 2565, 'kalianlah': 2566, 'pembeda': 2567, 'direbuntukan': 2568, 'melanjuntukan': 2569, 'expressionless': 2570, \"'kok\": 2571, 'rasa2nya': 2572, 'tindakan': 2573, 'gencar': 2574, 'mengerikan': 2575, 'bunga2': 2576, 'kaga': 2577, 'bahas2': 2578, 's': 2579, 'yaaa': 2580, 'perhatian': 2581, \"kalian'\": 2582, \"'lagi2\": 2583, 'bicaramu': 2584, 'ngawur': 2585, 'roryasyari': 2586, \"'coba\": 2587, 'beretika': 2588, 'setia': 2589, 'meme': 2590, 'palsu': 2591, 'rachland': 2592, \"nashidik'\": 2593, \"'kiriman\": 2594, '600': 2595, 'nyinyir': 2596, 'pingsan': 2597, \"semua'\": 2598, 'kandang': 2599, 'tetangga': 2600, '2kpedv4': 2601, '12': 2602, 'menitipkan': 2603, 'pentingnya': 2604, 'pluralisme': 2605, 'kebangsaan': 2606, 'kesatuan': 2607, 'persaingan': 2608, 'penting': 2609, 'disappointed': 2610, \"'semua\": 2611, 'bersinar': 2612, 'bertanya': 2613, 'gpp': 2614, \"'bener\": 2615, 'nonton': 2616, 'concert': 2617, 'biarlah': 2618, 'menghibur': 2619, 'wkkwwkkwk': 2620, \"ahokbali1'\": 2621, 'mio': 2622, 'helm': 2623, 'dijamin': 2624, \"segan'\": 2625, \"'suatu\": 2626, 'bercerita': 2627, 'batman': 2628, 'robbin': 2629, 'melindungi': 2630, 'tersenyum': 2631, 'ea1pns': 2632, 'pesan': 2633, 'rasulullah': 2634, 'saw': 2635, 'menyerahkan': 2636, 'ahlinya': 2637, 'cc': 2638, \"partaisocm'\": 2639, \"'menurut\": 2640, 'memberi': 2641, 'hikmah': 2642, 'pelajaran': 2643, 'ia': 2644, 'mematangkan': 2645, 'karakternya': 2646, \"aiman'\": 2647, 'rizieq': 2648, '4fdytd': 2649, 'pimpin': 2650, 'nyanyianuntukahok': 2651, \"visuallyyours'\": 2652, \"'dukungan\": 2653, 'pemasangan': 2654, \"ahokpresidenrike8'\": 2655, 'mentah': 2656, 'dikarbit': 2657, \"saja'\": 2658, \"isari68'\": 2659, \"'gantungan\": 2660, 'berbagai': 2661, 'tokopedia': 2662, 'ahokfree': 2663, 'basukitjahajapurnama': 2664, \"ahoktakbersalah'\": 2665, \"'sebenarnya\": 2666, 'reaksi': 2667, 'ajang': 2668, 'yes': 2669, \"sikapmu'\": 2670, 'bermutu': 2671, 'penjaja': 2672, 'kartu': 2673, 'nyesal': 2674, 'bngga': 2675, 'kehadirannya': 2676, 'republik': 2677, \"'menata\": 2678, 'menata': 2679, 'debatpilkadadki': 2680, \"gw2'\": 2681, \"'pantas\": 2682, \"hancur'\": 2683, \"'pantes\": 2684, 'dihapus': 2685, 'dibesar2kan': 2686, 'ditayangkan': 2687, '25x': 2688, 'sehari': 2689, 'dimetrotivi': 2690, \"ripjusticeindonesia'\": 2691, 'kpada': 2692, 'tlah': 2693, 'semogaamanah': 2694, \"jakartauntukrakyat'\": 2695, \"'akibat\": 2696, 'melorot': 2697, 'bangundki': 2698, 'aniesbaswedanid': 2699, 'gatot': 2700, 'total': 2701, 'and': 2702, 'arogan': 2703, 'memilihmu': 2704, 'digunakan': 2705, 'jungkalkan': 2706, 'isis': 2707, '2qd9w4e': 2708, 'diam2': 2709, 'tersepona': 2710, 'pesonanya': 2711, 'gagalfokus': 2712, 'ayoagusyudhoyono': 2713, \"zaraz'\": 2714, \"'kalian\": 2715, 'dijanjikan': 2716, 'janjinya': 2717, 'sekedar': 2718, 'jakartabersuriah': 2719, 'ustad': 2720, 'cang': 2721, 'haris': 2722, 'islami': 2723, 'asli': 2724, 'berakhlaq': 2725, \"djarot'\": 2726, \"'iwan\": 2727, 'konsistennya': 2728, 'iwan': 2729, \"takviri'\": 2730, \"'demam\": 2731, 'menjalar': 2732, 'hingga': 2733, \"siantar'\": 2734, \"'pakai\": 2735, 'sedotan': 2736, 'sodetan': 2737, 'selamatharisembako': 2738, 'merayakannya': 2739, 'sembakonya': 2740, 'pemberinya': 2741, 'gunromli': 2742, 'sahal': 2743, \"as'\": 2744, \"'trima\": 2745, 'keistiqomahan': 2746, 'tlh': 2747, 'mengantarkan': 2748, 'aniessandidki1': 2749, 'dg': 2750, \"signifikan'\": 2751, \"'politik\": 2752, 'bermartabat': 2753, 'telkomsel': 2754, 'perjuangannya': 2755, \"'begitu\": 2756, 'menyenangkan': 2757, 'bu': 2758, \"murni'\": 2759, \"'dalam\": 2760, \"ahokrekormuri'\": 2761, 'kebon': 2762, 'kacang': 2763, 'kp': 2764, 'bali': 2765, 'beralih': 2766, \"jakartacoblos3'\": 2767, 'selangkah': 2768, 'melompat': 2769, '2lmabg': 2770, 'mudahan': 2771, \"'youtu\": 2772, 'bxrzd69u61a': 2773, 'bening': 2774, 'apreciate': 2775, \"'sehabis\": 2776, 'pilkadapileg': 2777, \"'setuju\": 2778, 'bangett': 2779, 'kemrin': 2780, 'pembelaan': 2781, 'sombong': 2782, \"banjirjkt'\": 2783, 'karenamu': 2784, 'menyuarakan': 2785, 'bersamamu': 2786, \"ynwa'\": 2787, 'wakil': 2788, 'insyaalloh': 2789, 'heran': 2790, 'seringkali': 2791, \"'tugu\": 2792, 'proklamasi': 2793, 'sinar': 2794, \"ahokfree'\": 2795, 'merhatiin': 2796, 'rehat': 2797, 'hal': 2798, 'ganjal': 2799, 'islah': 2800, \"'agus\": 2801, 'rebutan': 2802, 'kepentingan': 2803, 'kelompok': 2804, 'youtube': 2805, \"pilgub'\": 2806, \"'tetap\": 2807, 'terlaksana': 2808, 'tentukan': 2809, 'saldonya': 2810, 'kenti': 2811, 'blt': 2812, 'berbuat': 2813, 'apa2': 2814, 'mekanismenya': 2815, 'korup': 2816, 'kebersihan': 2817, 'tata': 2818, 'ruang': 2819, 'agamis': 2820, 'ras': 2821, 'china': 2822, 'pemeluk': 2823, 'kristen': 2824, 'mules': 2825, 'kontestasi': 2826, 'politikpalsu': 2827, 'cuih': 2828, \"'buzzer\": 2829, 'galau': 2830, 'invoice': 2831, 'dibayar': 2832, \"'paslon\": 2833, 'bumerang': 2834, \"monethamrin'\": 2835, 'ngumpulin': 2836, 'dragon': 2837, 'ball': 2838, \"'mental\": 2839, 'tempe': 2840, 'indonesa': 2841, 'indonesiasatu': 2842, 'ampun': 2843, 'sesek': 2844, 'ngelawan': 2845, 'masalahnya': 2846, 'issue': 2847, \"terganti'\": 2848, \"'olahraga\": 2849, 'ht6pdz': 2850, 'olahraga': 2851, \"tps'\": 2852, \"'unik\": 2853, 'viral': 2854, 'medsos': 2855, 'satunya': 2856, 'polemikpaluhakim': 2857, \"'kubu\": 2858, 'bersyariah': 2859, 'doanya': 2860, 'pa': 2861, 'kyai': 2862, 'bagaikan': 2863, 'bis': 2864, 'telolet': 2865, \"ahokfornobel'\": 2866, \"'rakernas\": 2867, 'lombok': 2868, 'gilitrawangan': 2869, 'mataramâ€': 2870, 'btzmredliy4': 2871, 'beri': 2872, 'masukan': 2873, 'kritik': 2874, 'pertandingan': 2875, 'suatu': 2876, 'indonesiabersih': 2877, \"'alhamdulillah\": 2878, 'tersambut': 2879, 'mesra': 2880, 'intim': 2881, 'ntb': 2882, 'sarankan': 2883, 'pansus': 2884, 'undang': 2885, 'lsm': 2886, 'pencari': 2887, \"gila'\": 2888, \"'hanya\": 2889, 'iblis': 2890, 'menghalang': 2891, 'halangi': 2892, 'beribadah': 2893, 'garagarapilkada': 2894, \"pilkadad'\": 2895, \"'mengakui\": 2896, 'apapun': 2897, 'tujuannya': 2898, 'great': 2899, 'applause': 2900, 'patut': 2901, 'ditiru': 2902, \"'hujan\": 2903, 'sedekah': 2904, \"'kuota\": 2905, 'aagym': 2906, 'habis': 2907, 'mengikuti': 2908, 'warta': 2909, 'mata': 2910, \"'lihat\": 2911, 'raut': 2912, 'wajah': 2913, 'miris': 2914, 'kuatkan': 2915, 'indonesiaberkabung': 2916, \"'astaga\": 2917, 'surveyharusnya': 2918, 'acuan': 2919, \"efeknontonmetro'\": 2920, 'pembohongan': 2921, 'terasa': 2922, 'otak': 2923, 'menyelesaikan': 2924, 'negaranya': 2925, 'sampe': 2926, 'pelantikan': 2927, 'apbn': 2928, 'diganggu2': 2929, \"amin'\": 2930, \"'ah\": 2931, 'inget': 2932, 'norman': 2933, 'kamaru': 2934, 'bubur': 2935, 'berkabung': 2936, 'siapkalah': 2937, \"tv'\": 2938, \"'jenazah\": 2939, 'ditolak': 2940, 'abis': 2941, 'solat': 2942, 'diusir': 2943, 'dagang': 2944, 'jualannya': 2945, 'mantavvv': 2946, 'lu': 2947, 'puataran': 2948, 'anieshilangya': 2949, 'rosianna766hi': 2950, 'sittayohag': 2951, 'gunawanahokers': 2952, 'gunjkt': 2953, 'partaisocmed': 2954, \"ulinyusron'\": 2955, \"'lsi\": 2956, 'membuktikan': 2957, 'kejujuran': 2958, 'surveynya': 2959, 'tahap1': 2960, 'disurvey': 2961, \"putaran'\": 2962, \"'timses\": 2963, 'ngomongnya': 2964, 'motivator': 2965, \"'mendadak\": 2966, 'toleran': 2967, 'deket': 2968, 'tgl': 2969, 'april': 2970, \"'penista\": 2971, \"'dammnn\": 2972, 'cantik': 2973, 'ngorbanin': 2974, \"'hayoo\": 2975, 'hapus2in': 2976, 'twit': 2977, 'jelek2in': 2978, 'jahat': 2979, 'ninggalin': 2980, 'terlanjur': 2981, \"'diberi\": 2982, 'nikmat': 2983, 'bersabar': 2984, 'semuanya': 2985, 'berjiwa': 2986, \"'belajar\": 2987, 'sederhana': 2988, 'kursi': 2989, 'dipakai': 2990, 'kapan': 2991, 'meja': 2992, 'pantas': 2993, 'mendikbud': 2994, \"'kafir\": 2995, \"'setia\": 2996, 'sebab': 2997, 'regenerasi': 2998, 'jgn': 2999, 'kutu': 3000, \"loncat'\": 3001, \"'tukang\": 3002, 'orderan': 3003, 'buatin': 3004, 'kapir': 3005, 'besok': 3006, 'dipengadilan': 3007, \"penjarakanahok'\": 3008, \"'pesan\": 3009, \"'bagi2\": 3010, 'melanggar': 3011, 'pasal': 3012, '73': 3013, 'ayat': 3014, '10': 3015, 'thn': 3016, '2016': 3017, 'rendah': 3018, 'meminta': 3019, 'berat': 3020, 'sejenak': 3021, 'rengekan': 3022, \"kecil'\": 3023, 'rencana': 3024, \"'hampir\": 3025, 'tengah': 3026, 'sekeluarga': 3027, \"'prananda\": 3028, 'salut': 3029, '8fh7wi': 3030, 'museum': 3031, 'paris': 3032, 'moto': 3033, 'lukisan': 3034, 'monalisa': 3035, 'memberkati': 3036, 'dikarang': 3037, 'karang': 3038, 'tuntutan': 3039, 'jpu': 3040, 'kasus': 3041, \"ahokpenistaagama'\": 3042, 'terkesan': 3043, 'berpihak': 3044, 'lcnuh2': 3045, \"'dan\": 3046, \"'tanggal\": 3047, 'nurani': 3048, \"badjauntukjakarta'\": 3049, 'segini': 3050, 'seberapa': 3051, 'yak': 3052, 'ahok4ri': 3053, \"'hmmmm\": 3054, 'tokoh': 3055, \"'maaf\": 3056, 'hayo': 3057, 'diputaran': 3058, 'ronavioleta': 3059, \"netizentofa'\": 3060, 'jagoan': 3061, 'duluan': 3062, 'klu': 3063, 'dong': 3064, 'jagoannya': 3065, \"'1\": 3066, 'kenape': 3067, 'kagak': 3068, 'dilawan': 3069, 'dickychandra': 3070, \"'takjub\": 3071, 'sebegitu': 3072, 'geli': 3073, 'kontraproduktif': 3074, \"'ancam\": 3075, 'polisikan': 3076, 'sutradara': 3077, 'kontrak': 3078, 'lwg3ai': 3079, \"'orang2\": 3080, 'sarana': 3081, \"'salut\": 3082, 'mpok': 3083, 'mengakui': 3084, 'salam2jari': 3085, 'kitankri': 3086, 'tetapsemangat': 3087, \"'tolong\": 3088, 'kjp': 3089, 'turun': 3090, 'menjelang': 3091, 'confused': 3092}\n"
          ]
        }
      ]
    },
    {
      "cell_type": "code",
      "source": [
        "def seq_pad_and_trunc(sentences, tokenizer, padding, truncating, maxlen):\n",
        "    \n",
        "    ### START CODE HERE     \n",
        "    # Convert sentences to sequences\n",
        "    sequences = tokenizer.texts_to_sequences(sentences)\n",
        "    # Pad the sequences using the correct padding, truncating and maxlen\n",
        "    pad_trunc_sequences = pad_sequences(sequences, padding=padding, truncating=truncating, maxlen=maxlen)\n",
        "    ### END CODE HERE\n",
        "    \n",
        "    return pad_trunc_sequences"
      ],
      "metadata": {
        "id": "MR_BYHj63Jgv"
      },
      "execution_count": 92,
      "outputs": []
    },
    {
      "cell_type": "code",
      "source": [
        "# Test your function\n",
        "train_pad_trunc_seq = seq_pad_and_trunc(train_sentences, tokenizer, PADDING, TRUNCATING, MAXLEN)\n",
        "val_pad_trunc_seq = seq_pad_and_trunc(val_sentences, tokenizer, PADDING, TRUNCATING, MAXLEN)\n",
        "\n",
        "print(f\"Padded and truncated training sequences have shape: {train_pad_trunc_seq.shape}\\n\")\n",
        "print(f\"Padded and truncated validation sequences have shape: {val_pad_trunc_seq.shape}\")"
      ],
      "metadata": {
        "colab": {
          "base_uri": "https://localhost:8080/"
        },
        "id": "ILgjKbWm6Ika",
        "outputId": "293b70ea-6549-4e5e-c334-137a2b96e4dc"
      },
      "execution_count": 93,
      "outputs": [
        {
          "output_type": "stream",
          "name": "stdout",
          "text": [
            "Padded and truncated training sequences have shape: (567, 16)\n",
            "\n",
            "Padded and truncated validation sequences have shape: (63, 16)\n"
          ]
        }
      ]
    },
    {
      "cell_type": "code",
      "source": [
        "train_labels = np.array(train_labels)\n",
        "val_labels = np.array(val_labels)"
      ],
      "metadata": {
        "id": "Z_wbA4Pi3OLq"
      },
      "execution_count": 94,
      "outputs": []
    },
    {
      "cell_type": "code",
      "source": [
        "from sklearn.preprocessing import LabelEncoder\n",
        "le = LabelEncoder()\n",
        "train_labels = le.fit_transform(train_labels)\n",
        "val_labels = le.fit_transform(val_labels)"
      ],
      "metadata": {
        "id": "znyM6GS557y9"
      },
      "execution_count": 95,
      "outputs": []
    },
    {
      "cell_type": "code",
      "source": [
        "# GRADED FUNCTION: create_model\n",
        "def create_model(vocab_size, embedding_dim, maxlen):\n",
        "    \n",
        "    ### START CODE HERE\n",
        "    model = tf.keras.Sequential([ \n",
        "        # This is how you need to set the Embedding layer when using pre-trained embeddings\n",
        "        tf.keras.layers.Embedding(vocab_size+1, embedding_dim, input_length=maxlen, trainable=True),\n",
        "        tf.keras.layers.Bidirectional(tf.keras.layers.LSTM(128)),\n",
        "        tf.keras.layers.Dense(64, activation='relu'),\n",
        "        tf.keras.layers.Dense(2, activation='softmax')\n",
        "    ])\n",
        "\n",
        "   # model = Sequential()\n",
        "    #model.add(Embedding(vocab_size+1, embedding_dim, input_length=maxlen, weights=[embeddings_matrix], trainable=True))\n",
        "    #model.add(SpatialDropout1D(0.5))\n",
        "    #model.add(LSTM(100, dropout=0.5, recurrent_dropout=0.5))\n",
        "    #model.add(Dense(32, activation='relu'))\n",
        "    #model.add(Dense(6, activation='softmax'))\n",
        "    \n",
        "    model.compile(loss=\"sparse_categorical_crossentropy\",\n",
        "                  optimizer='adam',\n",
        "                  metrics=['accuracy']) \n",
        "\n",
        "    ### END CODE HERE\n",
        "    return model"
      ],
      "metadata": {
        "id": "57EwZw1oMlbk"
      },
      "execution_count": 109,
      "outputs": []
    },
    {
      "cell_type": "code",
      "source": [
        "# Create your untrained model\n",
        "model = create_model(vocab_size, EMBEDDING_DIM, MAXLEN)\n",
        "\n",
        "# Train the model and save the training history\n",
        "history = model.fit(train_pad_trunc_seq, train_labels, epochs=15, validation_data=(val_pad_trunc_seq, val_labels))"
      ],
      "metadata": {
        "colab": {
          "base_uri": "https://localhost:8080/"
        },
        "id": "LKl_uYuFkrwF",
        "outputId": "355990df-3e51-46c4-a8cd-fbb70b949f1c"
      },
      "execution_count": 110,
      "outputs": [
        {
          "output_type": "stream",
          "name": "stdout",
          "text": [
            "Epoch 1/15\n",
            "18/18 [==============================] - 4s 74ms/step - loss: 0.6897 - accuracy: 0.5344 - val_loss: 0.6726 - val_accuracy: 0.5873\n",
            "Epoch 2/15\n",
            "18/18 [==============================] - 1s 37ms/step - loss: 0.5031 - accuracy: 0.7478 - val_loss: 0.6474 - val_accuracy: 0.6825\n",
            "Epoch 3/15\n",
            "18/18 [==============================] - 1s 38ms/step - loss: 0.1333 - accuracy: 0.9418 - val_loss: 0.5855 - val_accuracy: 0.7619\n",
            "Epoch 4/15\n",
            "18/18 [==============================] - 1s 38ms/step - loss: 0.0250 - accuracy: 0.9982 - val_loss: 1.2386 - val_accuracy: 0.7143\n",
            "Epoch 5/15\n",
            "18/18 [==============================] - 1s 37ms/step - loss: 0.0060 - accuracy: 0.9982 - val_loss: 1.7800 - val_accuracy: 0.7460\n",
            "Epoch 6/15\n",
            "18/18 [==============================] - 1s 39ms/step - loss: 0.0061 - accuracy: 0.9982 - val_loss: 1.6775 - val_accuracy: 0.7143\n",
            "Epoch 7/15\n",
            "18/18 [==============================] - 1s 38ms/step - loss: 3.7922e-05 - accuracy: 1.0000 - val_loss: 1.6952 - val_accuracy: 0.7143\n",
            "Epoch 8/15\n",
            "18/18 [==============================] - 1s 37ms/step - loss: 4.5955e-05 - accuracy: 1.0000 - val_loss: 1.7115 - val_accuracy: 0.6825\n",
            "Epoch 9/15\n",
            "18/18 [==============================] - 1s 37ms/step - loss: 3.4746e-05 - accuracy: 1.0000 - val_loss: 1.7172 - val_accuracy: 0.6825\n",
            "Epoch 10/15\n",
            "18/18 [==============================] - 1s 37ms/step - loss: 2.7520e-05 - accuracy: 1.0000 - val_loss: 1.7219 - val_accuracy: 0.6984\n",
            "Epoch 11/15\n",
            "18/18 [==============================] - 1s 37ms/step - loss: 2.3276e-05 - accuracy: 1.0000 - val_loss: 1.7270 - val_accuracy: 0.6984\n",
            "Epoch 12/15\n",
            "18/18 [==============================] - 1s 37ms/step - loss: 2.0066e-05 - accuracy: 1.0000 - val_loss: 1.7321 - val_accuracy: 0.6984\n",
            "Epoch 13/15\n",
            "18/18 [==============================] - 1s 38ms/step - loss: 1.7806e-05 - accuracy: 1.0000 - val_loss: 1.7368 - val_accuracy: 0.7143\n",
            "Epoch 14/15\n",
            "18/18 [==============================] - 1s 37ms/step - loss: 1.6154e-05 - accuracy: 1.0000 - val_loss: 1.7424 - val_accuracy: 0.7143\n",
            "Epoch 15/15\n",
            "18/18 [==============================] - 1s 37ms/step - loss: 1.4549e-05 - accuracy: 1.0000 - val_loss: 1.7478 - val_accuracy: 0.7143\n"
          ]
        }
      ]
    },
    {
      "cell_type": "code",
      "source": [
        "test.head()"
      ],
      "metadata": {
        "colab": {
          "base_uri": "https://localhost:8080/",
          "height": 354
        },
        "id": "wBCkEqbfXqgt",
        "outputId": "88d9a1b8-8ae5-4da1-ff2a-35524ea72f81"
      },
      "execution_count": 113,
      "outputs": [
        {
          "output_type": "execute_result",
          "data": {
            "text/plain": [
              "    Id pasangan_calon                                         text_tweet  \\\n",
              "0  631    Anies-Sandi  'Didiklah orang muda dengan akhlak dan integri...   \n",
              "1  632    Anies-Sandi  '#PilkadaDKI2017 Anies Dipolisikan karena Sebu...   \n",
              "2  633    Anies-Sandi  'Siapa menebar FITNAH dia akan menuai KALAH #p...   \n",
              "3  634    Anies-Sandi  'Pemimpin yang Tegas ataukah Pemimpi yang Tega...   \n",
              "4  635    Anies-Sandi  'Lah Ini Malah Ada Pelatihan OK-OCE Sabun Al-M...   \n",
              "\n",
              "                                          Unnamed: 3 Unnamed: 4 Unnamed: 5  \\\n",
              "0                                                NaN        NaN        NaN   \n",
              "1                                                NaN        NaN        NaN   \n",
              "2                                                NaN        NaN        NaN   \n",
              "3                                                NaN        NaN        NaN   \n",
              "4   Ini Malah Ada Pelatihan OK-OCE Sabun Al-Maida...        NaN        NaN   \n",
              "\n",
              "  Unnamed: 6  \n",
              "0        NaN  \n",
              "1        NaN  \n",
              "2        NaN  \n",
              "3        NaN  \n",
              "4        NaN  "
            ],
            "text/html": [
              "\n",
              "  <div id=\"df-75bb94db-4672-48a4-8df0-c384a7f67929\">\n",
              "    <div class=\"colab-df-container\">\n",
              "      <div>\n",
              "<style scoped>\n",
              "    .dataframe tbody tr th:only-of-type {\n",
              "        vertical-align: middle;\n",
              "    }\n",
              "\n",
              "    .dataframe tbody tr th {\n",
              "        vertical-align: top;\n",
              "    }\n",
              "\n",
              "    .dataframe thead th {\n",
              "        text-align: right;\n",
              "    }\n",
              "</style>\n",
              "<table border=\"1\" class=\"dataframe\">\n",
              "  <thead>\n",
              "    <tr style=\"text-align: right;\">\n",
              "      <th></th>\n",
              "      <th>Id</th>\n",
              "      <th>pasangan_calon</th>\n",
              "      <th>text_tweet</th>\n",
              "      <th>Unnamed: 3</th>\n",
              "      <th>Unnamed: 4</th>\n",
              "      <th>Unnamed: 5</th>\n",
              "      <th>Unnamed: 6</th>\n",
              "    </tr>\n",
              "  </thead>\n",
              "  <tbody>\n",
              "    <tr>\n",
              "      <th>0</th>\n",
              "      <td>631</td>\n",
              "      <td>Anies-Sandi</td>\n",
              "      <td>'Didiklah orang muda dengan akhlak dan integri...</td>\n",
              "      <td>NaN</td>\n",
              "      <td>NaN</td>\n",
              "      <td>NaN</td>\n",
              "      <td>NaN</td>\n",
              "    </tr>\n",
              "    <tr>\n",
              "      <th>1</th>\n",
              "      <td>632</td>\n",
              "      <td>Anies-Sandi</td>\n",
              "      <td>'#PilkadaDKI2017 Anies Dipolisikan karena Sebu...</td>\n",
              "      <td>NaN</td>\n",
              "      <td>NaN</td>\n",
              "      <td>NaN</td>\n",
              "      <td>NaN</td>\n",
              "    </tr>\n",
              "    <tr>\n",
              "      <th>2</th>\n",
              "      <td>633</td>\n",
              "      <td>Anies-Sandi</td>\n",
              "      <td>'Siapa menebar FITNAH dia akan menuai KALAH #p...</td>\n",
              "      <td>NaN</td>\n",
              "      <td>NaN</td>\n",
              "      <td>NaN</td>\n",
              "      <td>NaN</td>\n",
              "    </tr>\n",
              "    <tr>\n",
              "      <th>3</th>\n",
              "      <td>634</td>\n",
              "      <td>Anies-Sandi</td>\n",
              "      <td>'Pemimpin yang Tegas ataukah Pemimpi yang Tega...</td>\n",
              "      <td>NaN</td>\n",
              "      <td>NaN</td>\n",
              "      <td>NaN</td>\n",
              "      <td>NaN</td>\n",
              "    </tr>\n",
              "    <tr>\n",
              "      <th>4</th>\n",
              "      <td>635</td>\n",
              "      <td>Anies-Sandi</td>\n",
              "      <td>'Lah Ini Malah Ada Pelatihan OK-OCE Sabun Al-M...</td>\n",
              "      <td>Ini Malah Ada Pelatihan OK-OCE Sabun Al-Maida...</td>\n",
              "      <td>NaN</td>\n",
              "      <td>NaN</td>\n",
              "      <td>NaN</td>\n",
              "    </tr>\n",
              "  </tbody>\n",
              "</table>\n",
              "</div>\n",
              "      <button class=\"colab-df-convert\" onclick=\"convertToInteractive('df-75bb94db-4672-48a4-8df0-c384a7f67929')\"\n",
              "              title=\"Convert this dataframe to an interactive table.\"\n",
              "              style=\"display:none;\">\n",
              "        \n",
              "  <svg xmlns=\"http://www.w3.org/2000/svg\" height=\"24px\"viewBox=\"0 0 24 24\"\n",
              "       width=\"24px\">\n",
              "    <path d=\"M0 0h24v24H0V0z\" fill=\"none\"/>\n",
              "    <path d=\"M18.56 5.44l.94 2.06.94-2.06 2.06-.94-2.06-.94-.94-2.06-.94 2.06-2.06.94zm-11 1L8.5 8.5l.94-2.06 2.06-.94-2.06-.94L8.5 2.5l-.94 2.06-2.06.94zm10 10l.94 2.06.94-2.06 2.06-.94-2.06-.94-.94-2.06-.94 2.06-2.06.94z\"/><path d=\"M17.41 7.96l-1.37-1.37c-.4-.4-.92-.59-1.43-.59-.52 0-1.04.2-1.43.59L10.3 9.45l-7.72 7.72c-.78.78-.78 2.05 0 2.83L4 21.41c.39.39.9.59 1.41.59.51 0 1.02-.2 1.41-.59l7.78-7.78 2.81-2.81c.8-.78.8-2.07 0-2.86zM5.41 20L4 18.59l7.72-7.72 1.47 1.35L5.41 20z\"/>\n",
              "  </svg>\n",
              "      </button>\n",
              "      \n",
              "  <style>\n",
              "    .colab-df-container {\n",
              "      display:flex;\n",
              "      flex-wrap:wrap;\n",
              "      gap: 12px;\n",
              "    }\n",
              "\n",
              "    .colab-df-convert {\n",
              "      background-color: #E8F0FE;\n",
              "      border: none;\n",
              "      border-radius: 50%;\n",
              "      cursor: pointer;\n",
              "      display: none;\n",
              "      fill: #1967D2;\n",
              "      height: 32px;\n",
              "      padding: 0 0 0 0;\n",
              "      width: 32px;\n",
              "    }\n",
              "\n",
              "    .colab-df-convert:hover {\n",
              "      background-color: #E2EBFA;\n",
              "      box-shadow: 0px 1px 2px rgba(60, 64, 67, 0.3), 0px 1px 3px 1px rgba(60, 64, 67, 0.15);\n",
              "      fill: #174EA6;\n",
              "    }\n",
              "\n",
              "    [theme=dark] .colab-df-convert {\n",
              "      background-color: #3B4455;\n",
              "      fill: #D2E3FC;\n",
              "    }\n",
              "\n",
              "    [theme=dark] .colab-df-convert:hover {\n",
              "      background-color: #434B5C;\n",
              "      box-shadow: 0px 1px 3px 1px rgba(0, 0, 0, 0.15);\n",
              "      filter: drop-shadow(0px 1px 2px rgba(0, 0, 0, 0.3));\n",
              "      fill: #FFFFFF;\n",
              "    }\n",
              "  </style>\n",
              "\n",
              "      <script>\n",
              "        const buttonEl =\n",
              "          document.querySelector('#df-75bb94db-4672-48a4-8df0-c384a7f67929 button.colab-df-convert');\n",
              "        buttonEl.style.display =\n",
              "          google.colab.kernel.accessAllowed ? 'block' : 'none';\n",
              "\n",
              "        async function convertToInteractive(key) {\n",
              "          const element = document.querySelector('#df-75bb94db-4672-48a4-8df0-c384a7f67929');\n",
              "          const dataTable =\n",
              "            await google.colab.kernel.invokeFunction('convertToInteractive',\n",
              "                                                     [key], {});\n",
              "          if (!dataTable) return;\n",
              "\n",
              "          const docLinkHtml = 'Like what you see? Visit the ' +\n",
              "            '<a target=\"_blank\" href=https://colab.research.google.com/notebooks/data_table.ipynb>data table notebook</a>'\n",
              "            + ' to learn more about interactive tables.';\n",
              "          element.innerHTML = '';\n",
              "          dataTable['output_type'] = 'display_data';\n",
              "          await google.colab.output.renderOutput(dataTable, element);\n",
              "          const docLink = document.createElement('div');\n",
              "          docLink.innerHTML = docLinkHtml;\n",
              "          element.appendChild(docLink);\n",
              "        }\n",
              "      </script>\n",
              "    </div>\n",
              "  </div>\n",
              "  "
            ]
          },
          "metadata": {},
          "execution_count": 113
        }
      ]
    },
    {
      "cell_type": "code",
      "source": [
        "sent = test[\"text_tweet\"]\n",
        "\n",
        "tokenizer = fit_tokenizer(sent, OOV_TOKEN)\n",
        "\n",
        "test_pad_trunc_seq = seq_pad_and_trunc(sent, tokenizer, PADDING, TRUNCATING, MAXLEN)\n"
      ],
      "metadata": {
        "id": "F9wd0HbdNEbF"
      },
      "execution_count": 114,
      "outputs": []
    },
    {
      "cell_type": "code",
      "source": [
        "x = np.argmax(model.predict(test_pad_trunc_seq), axis=-1)"
      ],
      "metadata": {
        "colab": {
          "base_uri": "https://localhost:8080/"
        },
        "id": "NdS0iLlHKzTk",
        "outputId": "7d1e2b1c-d17f-4c1c-a426-9e5108a44c6b"
      },
      "execution_count": 115,
      "outputs": [
        {
          "output_type": "stream",
          "name": "stdout",
          "text": [
            "9/9 [==============================] - 1s 11ms/step\n"
          ]
        }
      ]
    },
    {
      "cell_type": "code",
      "source": [
        "test['Sentiment']=x"
      ],
      "metadata": {
        "id": "qXC7he0_6DBl"
      },
      "execution_count": 116,
      "outputs": []
    },
    {
      "cell_type": "code",
      "source": [
        "test = test.drop(['pasangan_calon','text_tweet'],axis = 1)"
      ],
      "metadata": {
        "id": "JsBRoFBjrmQK"
      },
      "execution_count": 117,
      "outputs": []
    },
    {
      "cell_type": "code",
      "source": [
        "test.head()"
      ],
      "metadata": {
        "id": "ExdSzYpj4RZm",
        "outputId": "be52d8df-2a8c-47ce-f52f-9e95c1f68c6d",
        "colab": {
          "base_uri": "https://localhost:8080/",
          "height": 206
        }
      },
      "execution_count": 118,
      "outputs": [
        {
          "output_type": "execute_result",
          "data": {
            "text/plain": [
              "    Id                                         Unnamed: 3 Unnamed: 4  \\\n",
              "0  631                                                NaN        NaN   \n",
              "1  632                                                NaN        NaN   \n",
              "2  633                                                NaN        NaN   \n",
              "3  634                                                NaN        NaN   \n",
              "4  635   Ini Malah Ada Pelatihan OK-OCE Sabun Al-Maida...        NaN   \n",
              "\n",
              "  Unnamed: 5 Unnamed: 6  Sentiment  \n",
              "0        NaN        NaN          1  \n",
              "1        NaN        NaN          1  \n",
              "2        NaN        NaN          0  \n",
              "3        NaN        NaN          1  \n",
              "4        NaN        NaN          0  "
            ],
            "text/html": [
              "\n",
              "  <div id=\"df-609102be-8e20-4609-8113-e335d4e4050c\">\n",
              "    <div class=\"colab-df-container\">\n",
              "      <div>\n",
              "<style scoped>\n",
              "    .dataframe tbody tr th:only-of-type {\n",
              "        vertical-align: middle;\n",
              "    }\n",
              "\n",
              "    .dataframe tbody tr th {\n",
              "        vertical-align: top;\n",
              "    }\n",
              "\n",
              "    .dataframe thead th {\n",
              "        text-align: right;\n",
              "    }\n",
              "</style>\n",
              "<table border=\"1\" class=\"dataframe\">\n",
              "  <thead>\n",
              "    <tr style=\"text-align: right;\">\n",
              "      <th></th>\n",
              "      <th>Id</th>\n",
              "      <th>Unnamed: 3</th>\n",
              "      <th>Unnamed: 4</th>\n",
              "      <th>Unnamed: 5</th>\n",
              "      <th>Unnamed: 6</th>\n",
              "      <th>Sentiment</th>\n",
              "    </tr>\n",
              "  </thead>\n",
              "  <tbody>\n",
              "    <tr>\n",
              "      <th>0</th>\n",
              "      <td>631</td>\n",
              "      <td>NaN</td>\n",
              "      <td>NaN</td>\n",
              "      <td>NaN</td>\n",
              "      <td>NaN</td>\n",
              "      <td>1</td>\n",
              "    </tr>\n",
              "    <tr>\n",
              "      <th>1</th>\n",
              "      <td>632</td>\n",
              "      <td>NaN</td>\n",
              "      <td>NaN</td>\n",
              "      <td>NaN</td>\n",
              "      <td>NaN</td>\n",
              "      <td>1</td>\n",
              "    </tr>\n",
              "    <tr>\n",
              "      <th>2</th>\n",
              "      <td>633</td>\n",
              "      <td>NaN</td>\n",
              "      <td>NaN</td>\n",
              "      <td>NaN</td>\n",
              "      <td>NaN</td>\n",
              "      <td>0</td>\n",
              "    </tr>\n",
              "    <tr>\n",
              "      <th>3</th>\n",
              "      <td>634</td>\n",
              "      <td>NaN</td>\n",
              "      <td>NaN</td>\n",
              "      <td>NaN</td>\n",
              "      <td>NaN</td>\n",
              "      <td>1</td>\n",
              "    </tr>\n",
              "    <tr>\n",
              "      <th>4</th>\n",
              "      <td>635</td>\n",
              "      <td>Ini Malah Ada Pelatihan OK-OCE Sabun Al-Maida...</td>\n",
              "      <td>NaN</td>\n",
              "      <td>NaN</td>\n",
              "      <td>NaN</td>\n",
              "      <td>0</td>\n",
              "    </tr>\n",
              "  </tbody>\n",
              "</table>\n",
              "</div>\n",
              "      <button class=\"colab-df-convert\" onclick=\"convertToInteractive('df-609102be-8e20-4609-8113-e335d4e4050c')\"\n",
              "              title=\"Convert this dataframe to an interactive table.\"\n",
              "              style=\"display:none;\">\n",
              "        \n",
              "  <svg xmlns=\"http://www.w3.org/2000/svg\" height=\"24px\"viewBox=\"0 0 24 24\"\n",
              "       width=\"24px\">\n",
              "    <path d=\"M0 0h24v24H0V0z\" fill=\"none\"/>\n",
              "    <path d=\"M18.56 5.44l.94 2.06.94-2.06 2.06-.94-2.06-.94-.94-2.06-.94 2.06-2.06.94zm-11 1L8.5 8.5l.94-2.06 2.06-.94-2.06-.94L8.5 2.5l-.94 2.06-2.06.94zm10 10l.94 2.06.94-2.06 2.06-.94-2.06-.94-.94-2.06-.94 2.06-2.06.94z\"/><path d=\"M17.41 7.96l-1.37-1.37c-.4-.4-.92-.59-1.43-.59-.52 0-1.04.2-1.43.59L10.3 9.45l-7.72 7.72c-.78.78-.78 2.05 0 2.83L4 21.41c.39.39.9.59 1.41.59.51 0 1.02-.2 1.41-.59l7.78-7.78 2.81-2.81c.8-.78.8-2.07 0-2.86zM5.41 20L4 18.59l7.72-7.72 1.47 1.35L5.41 20z\"/>\n",
              "  </svg>\n",
              "      </button>\n",
              "      \n",
              "  <style>\n",
              "    .colab-df-container {\n",
              "      display:flex;\n",
              "      flex-wrap:wrap;\n",
              "      gap: 12px;\n",
              "    }\n",
              "\n",
              "    .colab-df-convert {\n",
              "      background-color: #E8F0FE;\n",
              "      border: none;\n",
              "      border-radius: 50%;\n",
              "      cursor: pointer;\n",
              "      display: none;\n",
              "      fill: #1967D2;\n",
              "      height: 32px;\n",
              "      padding: 0 0 0 0;\n",
              "      width: 32px;\n",
              "    }\n",
              "\n",
              "    .colab-df-convert:hover {\n",
              "      background-color: #E2EBFA;\n",
              "      box-shadow: 0px 1px 2px rgba(60, 64, 67, 0.3), 0px 1px 3px 1px rgba(60, 64, 67, 0.15);\n",
              "      fill: #174EA6;\n",
              "    }\n",
              "\n",
              "    [theme=dark] .colab-df-convert {\n",
              "      background-color: #3B4455;\n",
              "      fill: #D2E3FC;\n",
              "    }\n",
              "\n",
              "    [theme=dark] .colab-df-convert:hover {\n",
              "      background-color: #434B5C;\n",
              "      box-shadow: 0px 1px 3px 1px rgba(0, 0, 0, 0.15);\n",
              "      filter: drop-shadow(0px 1px 2px rgba(0, 0, 0, 0.3));\n",
              "      fill: #FFFFFF;\n",
              "    }\n",
              "  </style>\n",
              "\n",
              "      <script>\n",
              "        const buttonEl =\n",
              "          document.querySelector('#df-609102be-8e20-4609-8113-e335d4e4050c button.colab-df-convert');\n",
              "        buttonEl.style.display =\n",
              "          google.colab.kernel.accessAllowed ? 'block' : 'none';\n",
              "\n",
              "        async function convertToInteractive(key) {\n",
              "          const element = document.querySelector('#df-609102be-8e20-4609-8113-e335d4e4050c');\n",
              "          const dataTable =\n",
              "            await google.colab.kernel.invokeFunction('convertToInteractive',\n",
              "                                                     [key], {});\n",
              "          if (!dataTable) return;\n",
              "\n",
              "          const docLinkHtml = 'Like what you see? Visit the ' +\n",
              "            '<a target=\"_blank\" href=https://colab.research.google.com/notebooks/data_table.ipynb>data table notebook</a>'\n",
              "            + ' to learn more about interactive tables.';\n",
              "          element.innerHTML = '';\n",
              "          dataTable['output_type'] = 'display_data';\n",
              "          await google.colab.output.renderOutput(dataTable, element);\n",
              "          const docLink = document.createElement('div');\n",
              "          docLink.innerHTML = docLinkHtml;\n",
              "          element.appendChild(docLink);\n",
              "        }\n",
              "      </script>\n",
              "    </div>\n",
              "  </div>\n",
              "  "
            ]
          },
          "metadata": {},
          "execution_count": 118
        }
      ]
    },
    {
      "cell_type": "code",
      "source": [
        "test.to_csv('submission_Aldofdp.csv')"
      ],
      "metadata": {
        "id": "35bJKUYf3_9V"
      },
      "execution_count": 119,
      "outputs": []
    },
    {
      "cell_type": "code",
      "source": [],
      "metadata": {
        "id": "T3EnF5wka30Q"
      },
      "execution_count": null,
      "outputs": []
    }
  ]
}